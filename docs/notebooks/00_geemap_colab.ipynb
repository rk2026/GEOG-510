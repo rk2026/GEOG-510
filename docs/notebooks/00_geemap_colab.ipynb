{
  "cells": [
    {
      "cell_type": "markdown",
      "metadata": {
        "id": "view-in-github",
        "colab_type": "text"
      },
      "source": [
        "<a href=\"https://colab.research.google.com/github/rk2026/GEOG-510/blob/main/docs/notebooks/00_geemap_colab.ipynb\" target=\"_parent\"><img src=\"https://colab.research.google.com/assets/colab-badge.svg\" alt=\"Open In Colab\"/></a>"
      ]
    },
    {
      "cell_type": "markdown",
      "metadata": {
        "id": "hSiUGpwtIHna"
      },
      "source": [
        "<a href=\"https://colab.research.google.com/github/gee-community/geemap/blob/master/examples/notebooks/00_geemap_colab.ipynb\" target=\"_parent\"><img src=\"https://colab.research.google.com/assets/colab-badge.svg\" alt=\"Open in Colab\"/></a>\n",
        "\n",
        "# Using geemap with Google Colab\n",
        "\n",
        "## Introduction\n",
        "\n",
        "This notebook demonstrates how to use [geemap](https://geemap.org) with Google Colab. To use geemap and the Earth Engine Python API, you must [register](https://code.earthengine.google.com/register) for an Earth Engine account and follow the instructions [here](https://docs.google.com/document/d/1ZGSmrNm6_baqd8CHt33kIBWOlvkh-HLr46bODgJN1h0/edit?usp=sharing) to create a Cloud Project. Earth Engine is free for [noncommercial and research use](https://earthengine.google.com/noncommercial)."
      ],
      "id": "hSiUGpwtIHna"
    },
    {
      "cell_type": "markdown",
      "metadata": {
        "id": "XSfHQFo3IHnd"
      },
      "source": [
        "## Install geemap\n",
        "\n",
        "The geemap package is pre-installed in Google Colab and is updated to the latest minor or major release every few weeks. If you would like to install the latest version, you can uncomment and run the following command:"
      ],
      "id": "XSfHQFo3IHnd"
    },
    {
      "cell_type": "code",
      "execution_count": 2,
      "metadata": {
        "id": "PtFDm1X_IHnd",
        "outputId": "b122e93e-3b8f-4f2a-bd6b-b7b08d81cee5",
        "colab": {
          "base_uri": "https://localhost:8080/"
        }
      },
      "outputs": [
        {
          "output_type": "stream",
          "name": "stdout",
          "text": [
            "Requirement already satisfied: geemap in /usr/local/lib/python3.10/dist-packages (0.28.2)\n",
            "Collecting geemap\n",
            "  Downloading geemap-0.29.1-py2.py3-none-any.whl (2.2 MB)\n",
            "\u001b[2K     \u001b[90m━━━━━━━━━━━━━━━━━━━━━━━━━━━━━━━━━━━━━━━━\u001b[0m \u001b[32m2.2/2.2 MB\u001b[0m \u001b[31m24.0 MB/s\u001b[0m eta \u001b[36m0:00:00\u001b[0m\n",
            "\u001b[?25hRequirement already satisfied: bqplot in /usr/local/lib/python3.10/dist-packages (from geemap) (0.12.42)\n",
            "Requirement already satisfied: colour in /usr/local/lib/python3.10/dist-packages (from geemap) (0.1.5)\n",
            "Requirement already satisfied: earthengine-api>=0.1.347 in /usr/local/lib/python3.10/dist-packages (from geemap) (0.1.375)\n",
            "Requirement already satisfied: eerepr>=0.0.4 in /usr/local/lib/python3.10/dist-packages (from geemap) (0.0.4)\n",
            "Requirement already satisfied: folium>=0.13.0 in /usr/local/lib/python3.10/dist-packages (from geemap) (0.14.0)\n",
            "Requirement already satisfied: geocoder in /usr/local/lib/python3.10/dist-packages (from geemap) (1.38.1)\n",
            "Requirement already satisfied: ipyevents in /usr/local/lib/python3.10/dist-packages (from geemap) (2.0.2)\n",
            "Requirement already satisfied: ipyfilechooser>=0.6.0 in /usr/local/lib/python3.10/dist-packages (from geemap) (0.6.0)\n",
            "Requirement already satisfied: ipyleaflet>=0.17.0 in /usr/local/lib/python3.10/dist-packages (from geemap) (0.17.4)\n",
            "Requirement already satisfied: ipytree in /usr/local/lib/python3.10/dist-packages (from geemap) (0.2.2)\n",
            "Requirement already satisfied: matplotlib in /usr/local/lib/python3.10/dist-packages (from geemap) (3.7.1)\n",
            "Requirement already satisfied: numpy in /usr/local/lib/python3.10/dist-packages (from geemap) (1.23.5)\n",
            "Requirement already satisfied: pandas in /usr/local/lib/python3.10/dist-packages (from geemap) (1.5.3)\n",
            "Requirement already satisfied: plotly in /usr/local/lib/python3.10/dist-packages (from geemap) (5.15.0)\n",
            "Requirement already satisfied: pyperclip in /usr/local/lib/python3.10/dist-packages (from geemap) (1.8.2)\n",
            "Requirement already satisfied: pyshp>=2.1.3 in /usr/local/lib/python3.10/dist-packages (from geemap) (2.3.1)\n",
            "Requirement already satisfied: python-box in /usr/local/lib/python3.10/dist-packages (from geemap) (7.1.1)\n",
            "Requirement already satisfied: scooby in /usr/local/lib/python3.10/dist-packages (from geemap) (0.8.0)\n",
            "Requirement already satisfied: google-cloud-storage in /usr/local/lib/python3.10/dist-packages (from earthengine-api>=0.1.347->geemap) (2.8.0)\n",
            "Requirement already satisfied: google-api-python-client>=1.12.1 in /usr/local/lib/python3.10/dist-packages (from earthengine-api>=0.1.347->geemap) (2.84.0)\n",
            "Requirement already satisfied: google-auth>=1.4.1 in /usr/local/lib/python3.10/dist-packages (from earthengine-api>=0.1.347->geemap) (2.17.3)\n",
            "Requirement already satisfied: google-auth-httplib2>=0.0.3 in /usr/local/lib/python3.10/dist-packages (from earthengine-api>=0.1.347->geemap) (0.1.1)\n",
            "Requirement already satisfied: httplib2<1dev,>=0.9.2 in /usr/local/lib/python3.10/dist-packages (from earthengine-api>=0.1.347->geemap) (0.22.0)\n",
            "Requirement already satisfied: requests in /usr/local/lib/python3.10/dist-packages (from earthengine-api>=0.1.347->geemap) (2.31.0)\n",
            "Requirement already satisfied: branca>=0.6.0 in /usr/local/lib/python3.10/dist-packages (from folium>=0.13.0->geemap) (0.6.0)\n",
            "Requirement already satisfied: jinja2>=2.9 in /usr/local/lib/python3.10/dist-packages (from folium>=0.13.0->geemap) (3.1.2)\n",
            "Requirement already satisfied: ipywidgets in /usr/local/lib/python3.10/dist-packages (from ipyfilechooser>=0.6.0->geemap) (7.7.1)\n",
            "Requirement already satisfied: traittypes<3,>=0.2.1 in /usr/local/lib/python3.10/dist-packages (from ipyleaflet>=0.17.0->geemap) (0.2.1)\n",
            "Requirement already satisfied: xyzservices>=2021.8.1 in /usr/local/lib/python3.10/dist-packages (from ipyleaflet>=0.17.0->geemap) (2023.10.0)\n",
            "Requirement already satisfied: traitlets>=4.3.0 in /usr/local/lib/python3.10/dist-packages (from bqplot->geemap) (5.7.1)\n",
            "Requirement already satisfied: python-dateutil>=2.8.1 in /usr/local/lib/python3.10/dist-packages (from pandas->geemap) (2.8.2)\n",
            "Requirement already satisfied: pytz>=2020.1 in /usr/local/lib/python3.10/dist-packages (from pandas->geemap) (2023.3.post1)\n",
            "Requirement already satisfied: click in /usr/local/lib/python3.10/dist-packages (from geocoder->geemap) (8.1.7)\n",
            "Requirement already satisfied: future in /usr/local/lib/python3.10/dist-packages (from geocoder->geemap) (0.18.3)\n",
            "Requirement already satisfied: ratelim in /usr/local/lib/python3.10/dist-packages (from geocoder->geemap) (0.1.6)\n",
            "Requirement already satisfied: six in /usr/local/lib/python3.10/dist-packages (from geocoder->geemap) (1.16.0)\n",
            "Requirement already satisfied: contourpy>=1.0.1 in /usr/local/lib/python3.10/dist-packages (from matplotlib->geemap) (1.1.1)\n",
            "Requirement already satisfied: cycler>=0.10 in /usr/local/lib/python3.10/dist-packages (from matplotlib->geemap) (0.12.1)\n",
            "Requirement already satisfied: fonttools>=4.22.0 in /usr/local/lib/python3.10/dist-packages (from matplotlib->geemap) (4.43.1)\n",
            "Requirement already satisfied: kiwisolver>=1.0.1 in /usr/local/lib/python3.10/dist-packages (from matplotlib->geemap) (1.4.5)\n",
            "Requirement already satisfied: packaging>=20.0 in /usr/local/lib/python3.10/dist-packages (from matplotlib->geemap) (23.2)\n",
            "Requirement already satisfied: pillow>=6.2.0 in /usr/local/lib/python3.10/dist-packages (from matplotlib->geemap) (9.4.0)\n",
            "Requirement already satisfied: pyparsing>=2.3.1 in /usr/local/lib/python3.10/dist-packages (from matplotlib->geemap) (3.1.1)\n",
            "Requirement already satisfied: tenacity>=6.2.0 in /usr/local/lib/python3.10/dist-packages (from plotly->geemap) (8.2.3)\n",
            "Requirement already satisfied: google-api-core!=2.0.*,!=2.1.*,!=2.2.*,!=2.3.0,<3.0.0dev,>=1.31.5 in /usr/local/lib/python3.10/dist-packages (from google-api-python-client>=1.12.1->earthengine-api>=0.1.347->geemap) (2.11.1)\n",
            "Requirement already satisfied: uritemplate<5,>=3.0.1 in /usr/local/lib/python3.10/dist-packages (from google-api-python-client>=1.12.1->earthengine-api>=0.1.347->geemap) (4.1.1)\n",
            "Requirement already satisfied: cachetools<6.0,>=2.0.0 in /usr/local/lib/python3.10/dist-packages (from google-auth>=1.4.1->earthengine-api>=0.1.347->geemap) (5.3.1)\n",
            "Requirement already satisfied: pyasn1-modules>=0.2.1 in /usr/local/lib/python3.10/dist-packages (from google-auth>=1.4.1->earthengine-api>=0.1.347->geemap) (0.3.0)\n",
            "Requirement already satisfied: rsa<5,>=3.1.4 in /usr/local/lib/python3.10/dist-packages (from google-auth>=1.4.1->earthengine-api>=0.1.347->geemap) (4.9)\n",
            "Requirement already satisfied: ipykernel>=4.5.1 in /usr/local/lib/python3.10/dist-packages (from ipywidgets->ipyfilechooser>=0.6.0->geemap) (5.5.6)\n",
            "Requirement already satisfied: ipython-genutils~=0.2.0 in /usr/local/lib/python3.10/dist-packages (from ipywidgets->ipyfilechooser>=0.6.0->geemap) (0.2.0)\n",
            "Requirement already satisfied: widgetsnbextension~=3.6.0 in /usr/local/lib/python3.10/dist-packages (from ipywidgets->ipyfilechooser>=0.6.0->geemap) (3.6.6)\n",
            "Requirement already satisfied: ipython>=4.0.0 in /usr/local/lib/python3.10/dist-packages (from ipywidgets->ipyfilechooser>=0.6.0->geemap) (7.34.0)\n",
            "Requirement already satisfied: jupyterlab-widgets>=1.0.0 in /usr/local/lib/python3.10/dist-packages (from ipywidgets->ipyfilechooser>=0.6.0->geemap) (3.0.9)\n",
            "Requirement already satisfied: MarkupSafe>=2.0 in /usr/local/lib/python3.10/dist-packages (from jinja2>=2.9->folium>=0.13.0->geemap) (2.1.3)\n",
            "Requirement already satisfied: google-cloud-core<3.0dev,>=2.3.0 in /usr/local/lib/python3.10/dist-packages (from google-cloud-storage->earthengine-api>=0.1.347->geemap) (2.3.3)\n",
            "Requirement already satisfied: google-resumable-media>=2.3.2 in /usr/local/lib/python3.10/dist-packages (from google-cloud-storage->earthengine-api>=0.1.347->geemap) (2.6.0)\n",
            "Requirement already satisfied: charset-normalizer<4,>=2 in /usr/local/lib/python3.10/dist-packages (from requests->earthengine-api>=0.1.347->geemap) (3.3.0)\n",
            "Requirement already satisfied: idna<4,>=2.5 in /usr/local/lib/python3.10/dist-packages (from requests->earthengine-api>=0.1.347->geemap) (3.4)\n",
            "Requirement already satisfied: urllib3<3,>=1.21.1 in /usr/local/lib/python3.10/dist-packages (from requests->earthengine-api>=0.1.347->geemap) (2.0.7)\n",
            "Requirement already satisfied: certifi>=2017.4.17 in /usr/local/lib/python3.10/dist-packages (from requests->earthengine-api>=0.1.347->geemap) (2023.7.22)\n",
            "Requirement already satisfied: decorator in /usr/local/lib/python3.10/dist-packages (from ratelim->geocoder->geemap) (4.4.2)\n",
            "Requirement already satisfied: googleapis-common-protos<2.0.dev0,>=1.56.2 in /usr/local/lib/python3.10/dist-packages (from google-api-core!=2.0.*,!=2.1.*,!=2.2.*,!=2.3.0,<3.0.0dev,>=1.31.5->google-api-python-client>=1.12.1->earthengine-api>=0.1.347->geemap) (1.61.0)\n",
            "Requirement already satisfied: protobuf!=3.20.0,!=3.20.1,!=4.21.0,!=4.21.1,!=4.21.2,!=4.21.3,!=4.21.4,!=4.21.5,<5.0.0.dev0,>=3.19.5 in /usr/local/lib/python3.10/dist-packages (from google-api-core!=2.0.*,!=2.1.*,!=2.2.*,!=2.3.0,<3.0.0dev,>=1.31.5->google-api-python-client>=1.12.1->earthengine-api>=0.1.347->geemap) (3.20.3)\n",
            "Requirement already satisfied: google-crc32c<2.0dev,>=1.0 in /usr/local/lib/python3.10/dist-packages (from google-resumable-media>=2.3.2->google-cloud-storage->earthengine-api>=0.1.347->geemap) (1.5.0)\n",
            "Requirement already satisfied: jupyter-client in /usr/local/lib/python3.10/dist-packages (from ipykernel>=4.5.1->ipywidgets->ipyfilechooser>=0.6.0->geemap) (6.1.12)\n",
            "Requirement already satisfied: tornado>=4.2 in /usr/local/lib/python3.10/dist-packages (from ipykernel>=4.5.1->ipywidgets->ipyfilechooser>=0.6.0->geemap) (6.3.2)\n",
            "Requirement already satisfied: setuptools>=18.5 in /usr/local/lib/python3.10/dist-packages (from ipython>=4.0.0->ipywidgets->ipyfilechooser>=0.6.0->geemap) (67.7.2)\n",
            "Collecting jedi>=0.16 (from ipython>=4.0.0->ipywidgets->ipyfilechooser>=0.6.0->geemap)\n",
            "  Downloading jedi-0.19.1-py2.py3-none-any.whl (1.6 MB)\n",
            "\u001b[2K     \u001b[90m━━━━━━━━━━━━━━━━━━━━━━━━━━━━━━━━━━━━━━━━\u001b[0m \u001b[32m1.6/1.6 MB\u001b[0m \u001b[31m62.1 MB/s\u001b[0m eta \u001b[36m0:00:00\u001b[0m\n",
            "\u001b[?25hRequirement already satisfied: pickleshare in /usr/local/lib/python3.10/dist-packages (from ipython>=4.0.0->ipywidgets->ipyfilechooser>=0.6.0->geemap) (0.7.5)\n",
            "Requirement already satisfied: prompt-toolkit!=3.0.0,!=3.0.1,<3.1.0,>=2.0.0 in /usr/local/lib/python3.10/dist-packages (from ipython>=4.0.0->ipywidgets->ipyfilechooser>=0.6.0->geemap) (3.0.39)\n",
            "Requirement already satisfied: pygments in /usr/local/lib/python3.10/dist-packages (from ipython>=4.0.0->ipywidgets->ipyfilechooser>=0.6.0->geemap) (2.16.1)\n",
            "Requirement already satisfied: backcall in /usr/local/lib/python3.10/dist-packages (from ipython>=4.0.0->ipywidgets->ipyfilechooser>=0.6.0->geemap) (0.2.0)\n",
            "Requirement already satisfied: matplotlib-inline in /usr/local/lib/python3.10/dist-packages (from ipython>=4.0.0->ipywidgets->ipyfilechooser>=0.6.0->geemap) (0.1.6)\n",
            "Requirement already satisfied: pexpect>4.3 in /usr/local/lib/python3.10/dist-packages (from ipython>=4.0.0->ipywidgets->ipyfilechooser>=0.6.0->geemap) (4.8.0)\n",
            "Requirement already satisfied: pyasn1<0.6.0,>=0.4.6 in /usr/local/lib/python3.10/dist-packages (from pyasn1-modules>=0.2.1->google-auth>=1.4.1->earthengine-api>=0.1.347->geemap) (0.5.0)\n",
            "Requirement already satisfied: notebook>=4.4.1 in /usr/local/lib/python3.10/dist-packages (from widgetsnbextension~=3.6.0->ipywidgets->ipyfilechooser>=0.6.0->geemap) (6.5.5)\n",
            "Requirement already satisfied: parso<0.9.0,>=0.8.3 in /usr/local/lib/python3.10/dist-packages (from jedi>=0.16->ipython>=4.0.0->ipywidgets->ipyfilechooser>=0.6.0->geemap) (0.8.3)\n",
            "Requirement already satisfied: pyzmq<25,>=17 in /usr/local/lib/python3.10/dist-packages (from notebook>=4.4.1->widgetsnbextension~=3.6.0->ipywidgets->ipyfilechooser>=0.6.0->geemap) (23.2.1)\n",
            "Requirement already satisfied: argon2-cffi in /usr/local/lib/python3.10/dist-packages (from notebook>=4.4.1->widgetsnbextension~=3.6.0->ipywidgets->ipyfilechooser>=0.6.0->geemap) (23.1.0)\n",
            "Requirement already satisfied: jupyter-core>=4.6.1 in /usr/local/lib/python3.10/dist-packages (from notebook>=4.4.1->widgetsnbextension~=3.6.0->ipywidgets->ipyfilechooser>=0.6.0->geemap) (5.4.0)\n",
            "Requirement already satisfied: nbformat in /usr/local/lib/python3.10/dist-packages (from notebook>=4.4.1->widgetsnbextension~=3.6.0->ipywidgets->ipyfilechooser>=0.6.0->geemap) (5.9.2)\n",
            "Requirement already satisfied: nbconvert>=5 in /usr/local/lib/python3.10/dist-packages (from notebook>=4.4.1->widgetsnbextension~=3.6.0->ipywidgets->ipyfilechooser>=0.6.0->geemap) (6.5.4)\n",
            "Requirement already satisfied: nest-asyncio>=1.5 in /usr/local/lib/python3.10/dist-packages (from notebook>=4.4.1->widgetsnbextension~=3.6.0->ipywidgets->ipyfilechooser>=0.6.0->geemap) (1.5.8)\n",
            "Requirement already satisfied: Send2Trash>=1.8.0 in /usr/local/lib/python3.10/dist-packages (from notebook>=4.4.1->widgetsnbextension~=3.6.0->ipywidgets->ipyfilechooser>=0.6.0->geemap) (1.8.2)\n",
            "Requirement already satisfied: terminado>=0.8.3 in /usr/local/lib/python3.10/dist-packages (from notebook>=4.4.1->widgetsnbextension~=3.6.0->ipywidgets->ipyfilechooser>=0.6.0->geemap) (0.17.1)\n",
            "Requirement already satisfied: prometheus-client in /usr/local/lib/python3.10/dist-packages (from notebook>=4.4.1->widgetsnbextension~=3.6.0->ipywidgets->ipyfilechooser>=0.6.0->geemap) (0.17.1)\n",
            "Requirement already satisfied: nbclassic>=0.4.7 in /usr/local/lib/python3.10/dist-packages (from notebook>=4.4.1->widgetsnbextension~=3.6.0->ipywidgets->ipyfilechooser>=0.6.0->geemap) (1.0.0)\n",
            "Requirement already satisfied: ptyprocess>=0.5 in /usr/local/lib/python3.10/dist-packages (from pexpect>4.3->ipython>=4.0.0->ipywidgets->ipyfilechooser>=0.6.0->geemap) (0.7.0)\n",
            "Requirement already satisfied: wcwidth in /usr/local/lib/python3.10/dist-packages (from prompt-toolkit!=3.0.0,!=3.0.1,<3.1.0,>=2.0.0->ipython>=4.0.0->ipywidgets->ipyfilechooser>=0.6.0->geemap) (0.2.8)\n",
            "Requirement already satisfied: platformdirs>=2.5 in /usr/local/lib/python3.10/dist-packages (from jupyter-core>=4.6.1->notebook>=4.4.1->widgetsnbextension~=3.6.0->ipywidgets->ipyfilechooser>=0.6.0->geemap) (3.11.0)\n",
            "Requirement already satisfied: jupyter-server>=1.8 in /usr/local/lib/python3.10/dist-packages (from nbclassic>=0.4.7->notebook>=4.4.1->widgetsnbextension~=3.6.0->ipywidgets->ipyfilechooser>=0.6.0->geemap) (1.24.0)\n",
            "Requirement already satisfied: notebook-shim>=0.2.3 in /usr/local/lib/python3.10/dist-packages (from nbclassic>=0.4.7->notebook>=4.4.1->widgetsnbextension~=3.6.0->ipywidgets->ipyfilechooser>=0.6.0->geemap) (0.2.3)\n",
            "Requirement already satisfied: lxml in /usr/local/lib/python3.10/dist-packages (from nbconvert>=5->notebook>=4.4.1->widgetsnbextension~=3.6.0->ipywidgets->ipyfilechooser>=0.6.0->geemap) (4.9.3)\n",
            "Requirement already satisfied: beautifulsoup4 in /usr/local/lib/python3.10/dist-packages (from nbconvert>=5->notebook>=4.4.1->widgetsnbextension~=3.6.0->ipywidgets->ipyfilechooser>=0.6.0->geemap) (4.11.2)\n",
            "Requirement already satisfied: bleach in /usr/local/lib/python3.10/dist-packages (from nbconvert>=5->notebook>=4.4.1->widgetsnbextension~=3.6.0->ipywidgets->ipyfilechooser>=0.6.0->geemap) (6.1.0)\n",
            "Requirement already satisfied: defusedxml in /usr/local/lib/python3.10/dist-packages (from nbconvert>=5->notebook>=4.4.1->widgetsnbextension~=3.6.0->ipywidgets->ipyfilechooser>=0.6.0->geemap) (0.7.1)\n",
            "Requirement already satisfied: entrypoints>=0.2.2 in /usr/local/lib/python3.10/dist-packages (from nbconvert>=5->notebook>=4.4.1->widgetsnbextension~=3.6.0->ipywidgets->ipyfilechooser>=0.6.0->geemap) (0.4)\n",
            "Requirement already satisfied: jupyterlab-pygments in /usr/local/lib/python3.10/dist-packages (from nbconvert>=5->notebook>=4.4.1->widgetsnbextension~=3.6.0->ipywidgets->ipyfilechooser>=0.6.0->geemap) (0.2.2)\n",
            "Requirement already satisfied: mistune<2,>=0.8.1 in /usr/local/lib/python3.10/dist-packages (from nbconvert>=5->notebook>=4.4.1->widgetsnbextension~=3.6.0->ipywidgets->ipyfilechooser>=0.6.0->geemap) (0.8.4)\n",
            "Requirement already satisfied: nbclient>=0.5.0 in /usr/local/lib/python3.10/dist-packages (from nbconvert>=5->notebook>=4.4.1->widgetsnbextension~=3.6.0->ipywidgets->ipyfilechooser>=0.6.0->geemap) (0.8.0)\n",
            "Requirement already satisfied: pandocfilters>=1.4.1 in /usr/local/lib/python3.10/dist-packages (from nbconvert>=5->notebook>=4.4.1->widgetsnbextension~=3.6.0->ipywidgets->ipyfilechooser>=0.6.0->geemap) (1.5.0)\n",
            "Requirement already satisfied: tinycss2 in /usr/local/lib/python3.10/dist-packages (from nbconvert>=5->notebook>=4.4.1->widgetsnbextension~=3.6.0->ipywidgets->ipyfilechooser>=0.6.0->geemap) (1.2.1)\n",
            "Requirement already satisfied: fastjsonschema in /usr/local/lib/python3.10/dist-packages (from nbformat->notebook>=4.4.1->widgetsnbextension~=3.6.0->ipywidgets->ipyfilechooser>=0.6.0->geemap) (2.18.1)\n",
            "Requirement already satisfied: jsonschema>=2.6 in /usr/local/lib/python3.10/dist-packages (from nbformat->notebook>=4.4.1->widgetsnbextension~=3.6.0->ipywidgets->ipyfilechooser>=0.6.0->geemap) (4.19.1)\n",
            "Requirement already satisfied: argon2-cffi-bindings in /usr/local/lib/python3.10/dist-packages (from argon2-cffi->notebook>=4.4.1->widgetsnbextension~=3.6.0->ipywidgets->ipyfilechooser>=0.6.0->geemap) (21.2.0)\n",
            "Requirement already satisfied: attrs>=22.2.0 in /usr/local/lib/python3.10/dist-packages (from jsonschema>=2.6->nbformat->notebook>=4.4.1->widgetsnbextension~=3.6.0->ipywidgets->ipyfilechooser>=0.6.0->geemap) (23.1.0)\n",
            "Requirement already satisfied: jsonschema-specifications>=2023.03.6 in /usr/local/lib/python3.10/dist-packages (from jsonschema>=2.6->nbformat->notebook>=4.4.1->widgetsnbextension~=3.6.0->ipywidgets->ipyfilechooser>=0.6.0->geemap) (2023.7.1)\n",
            "Requirement already satisfied: referencing>=0.28.4 in /usr/local/lib/python3.10/dist-packages (from jsonschema>=2.6->nbformat->notebook>=4.4.1->widgetsnbextension~=3.6.0->ipywidgets->ipyfilechooser>=0.6.0->geemap) (0.30.2)\n",
            "Requirement already satisfied: rpds-py>=0.7.1 in /usr/local/lib/python3.10/dist-packages (from jsonschema>=2.6->nbformat->notebook>=4.4.1->widgetsnbextension~=3.6.0->ipywidgets->ipyfilechooser>=0.6.0->geemap) (0.10.6)\n",
            "Requirement already satisfied: anyio<4,>=3.1.0 in /usr/local/lib/python3.10/dist-packages (from jupyter-server>=1.8->nbclassic>=0.4.7->notebook>=4.4.1->widgetsnbextension~=3.6.0->ipywidgets->ipyfilechooser>=0.6.0->geemap) (3.7.1)\n",
            "Requirement already satisfied: websocket-client in /usr/local/lib/python3.10/dist-packages (from jupyter-server>=1.8->nbclassic>=0.4.7->notebook>=4.4.1->widgetsnbextension~=3.6.0->ipywidgets->ipyfilechooser>=0.6.0->geemap) (1.6.4)\n",
            "Requirement already satisfied: cffi>=1.0.1 in /usr/local/lib/python3.10/dist-packages (from argon2-cffi-bindings->argon2-cffi->notebook>=4.4.1->widgetsnbextension~=3.6.0->ipywidgets->ipyfilechooser>=0.6.0->geemap) (1.16.0)\n",
            "Requirement already satisfied: soupsieve>1.2 in /usr/local/lib/python3.10/dist-packages (from beautifulsoup4->nbconvert>=5->notebook>=4.4.1->widgetsnbextension~=3.6.0->ipywidgets->ipyfilechooser>=0.6.0->geemap) (2.5)\n",
            "Requirement already satisfied: webencodings in /usr/local/lib/python3.10/dist-packages (from bleach->nbconvert>=5->notebook>=4.4.1->widgetsnbextension~=3.6.0->ipywidgets->ipyfilechooser>=0.6.0->geemap) (0.5.1)\n",
            "Requirement already satisfied: sniffio>=1.1 in /usr/local/lib/python3.10/dist-packages (from anyio<4,>=3.1.0->jupyter-server>=1.8->nbclassic>=0.4.7->notebook>=4.4.1->widgetsnbextension~=3.6.0->ipywidgets->ipyfilechooser>=0.6.0->geemap) (1.3.0)\n",
            "Requirement already satisfied: exceptiongroup in /usr/local/lib/python3.10/dist-packages (from anyio<4,>=3.1.0->jupyter-server>=1.8->nbclassic>=0.4.7->notebook>=4.4.1->widgetsnbextension~=3.6.0->ipywidgets->ipyfilechooser>=0.6.0->geemap) (1.1.3)\n",
            "Requirement already satisfied: pycparser in /usr/local/lib/python3.10/dist-packages (from cffi>=1.0.1->argon2-cffi-bindings->argon2-cffi->notebook>=4.4.1->widgetsnbextension~=3.6.0->ipywidgets->ipyfilechooser>=0.6.0->geemap) (2.21)\n",
            "Installing collected packages: jedi, geemap\n",
            "  Attempting uninstall: geemap\n",
            "    Found existing installation: geemap 0.28.2\n",
            "    Uninstalling geemap-0.28.2:\n",
            "      Successfully uninstalled geemap-0.28.2\n",
            "Successfully installed geemap-0.29.1 jedi-0.19.1\n"
          ]
        }
      ],
      "source": [
        "%pip install -U geemap"
      ],
      "id": "PtFDm1X_IHnd"
    },
    {
      "cell_type": "markdown",
      "metadata": {
        "id": "9T0MD8zfIHne"
      },
      "source": [
        "## Import libraries\n",
        "\n",
        "Import the Earth Engine Python API."
      ],
      "id": "9T0MD8zfIHne"
    },
    {
      "cell_type": "code",
      "execution_count": null,
      "metadata": {
        "id": "EYUFDoTuIHnf"
      },
      "outputs": [],
      "source": [
        "import ee"
      ],
      "id": "EYUFDoTuIHnf"
    },
    {
      "cell_type": "markdown",
      "metadata": {
        "id": "nquztrh2IHnf"
      },
      "source": [
        "## EE Authentication\n",
        "\n",
        "Running the following cell will start the Earth Engine authentication. Follow the instructions [here](https://book.geemap.org/chapters/01_introduction.html#earth-engine-authentication) to authenticate Earth Engine."
      ],
      "id": "nquztrh2IHnf"
    },
    {
      "cell_type": "code",
      "execution_count": null,
      "metadata": {
        "id": "t7VwyNIsIHnf"
      },
      "outputs": [],
      "source": [
        "ee.Authenticate()"
      ],
      "id": "t7VwyNIsIHnf"
    },
    {
      "cell_type": "code",
      "execution_count": null,
      "id": "9646abfa",
      "metadata": {
        "id": "9646abfa"
      },
      "outputs": [],
      "source": [
        "ee.Initialize()"
      ]
    },
    {
      "cell_type": "markdown",
      "metadata": {
        "id": "APAReBHSIHng"
      },
      "source": [
        "## Core features\n",
        "\n",
        "You can import the geemap package using the following conventions:\n",
        "\n",
        "- To import only the core features of geemap, use: `import geemap.core as geemap`\n",
        "- To import all the features of geemap, use: `import geemap`\n",
        "\n",
        "Let's import the geemap package using the second option:"
      ],
      "id": "APAReBHSIHng"
    },
    {
      "cell_type": "code",
      "execution_count": null,
      "metadata": {
        "id": "uBTxCCd8IHng"
      },
      "outputs": [],
      "source": [
        "import geemap.core as geemap"
      ],
      "id": "uBTxCCd8IHng"
    },
    {
      "cell_type": "markdown",
      "metadata": {
        "id": "l1QXmP1PIHnh"
      },
      "source": [
        "## Basemap selector\n",
        "\n",
        "Select a basemap from the dropdown list and add it to the map."
      ],
      "id": "l1QXmP1PIHnh"
    },
    {
      "cell_type": "code",
      "execution_count": 1,
      "metadata": {
        "id": "_sp1kvAGIHnh",
        "outputId": "d5f16173-b048-490a-e6f6-916f26a65793",
        "colab": {
          "base_uri": "https://localhost:8080/",
          "height": 215
        }
      },
      "outputs": [
        {
          "output_type": "error",
          "ename": "NameError",
          "evalue": "ignored",
          "traceback": [
            "\u001b[0;31m---------------------------------------------------------------------------\u001b[0m",
            "\u001b[0;31mNameError\u001b[0m                                 Traceback (most recent call last)",
            "\u001b[0;32m<ipython-input-1-ee2e8171d423>\u001b[0m in \u001b[0;36m<cell line: 1>\u001b[0;34m()\u001b[0m\n\u001b[0;32m----> 1\u001b[0;31m \u001b[0mm\u001b[0m \u001b[0;34m=\u001b[0m \u001b[0mgeemap\u001b[0m\u001b[0;34m.\u001b[0m\u001b[0mMap\u001b[0m\u001b[0;34m(\u001b[0m\u001b[0;34m)\u001b[0m\u001b[0;34m\u001b[0m\u001b[0;34m\u001b[0m\u001b[0m\n\u001b[0m\u001b[1;32m      2\u001b[0m \u001b[0mm\u001b[0m\u001b[0;34m.\u001b[0m\u001b[0madd\u001b[0m\u001b[0;34m(\u001b[0m\u001b[0;34m\"basemap_selector\"\u001b[0m\u001b[0;34m)\u001b[0m\u001b[0;34m\u001b[0m\u001b[0;34m\u001b[0m\u001b[0m\n\u001b[1;32m      3\u001b[0m \u001b[0mm\u001b[0m\u001b[0;34m\u001b[0m\u001b[0;34m\u001b[0m\u001b[0m\n",
            "\u001b[0;31mNameError\u001b[0m: name 'geemap' is not defined"
          ]
        }
      ],
      "source": [
        "m = geemap.Map()\n",
        "m.add(\"basemap_selector\")\n",
        "m"
      ],
      "id": "_sp1kvAGIHnh"
    },
    {
      "cell_type": "markdown",
      "metadata": {
        "id": "RAUIePibIHnh"
      },
      "source": [
        "## Layer Manager\n",
        "\n",
        "Toggle the checkbox to show or hide the layer. Drag and move the slider to change the transparency level of the layer."
      ],
      "id": "RAUIePibIHnh"
    },
    {
      "cell_type": "code",
      "execution_count": null,
      "metadata": {
        "id": "4HJy5r20IHnh"
      },
      "outputs": [],
      "source": [
        "m = geemap.Map(center=(40, -100), zoom=4)\n",
        "dem = ee.Image('USGS/SRTMGL1_003')\n",
        "states = ee.FeatureCollection(\"TIGER/2018/States\")\n",
        "vis_params = {\n",
        "    'min': 0,\n",
        "    'max': 4000,\n",
        "    'palette': ['006633', 'E5FFCC', '662A00', 'D8D8D8', 'F5F5F5'],\n",
        "}\n",
        "m.add_layer(dem, vis_params, 'SRTM DEM')\n",
        "m.add_layer(states, {}, \"US States\")\n",
        "m.add('layer_manager')\n",
        "m"
      ],
      "id": "4HJy5r20IHnh"
    },
    {
      "cell_type": "markdown",
      "metadata": {
        "id": "iA1J8qWfIHni"
      },
      "source": [
        "## Inspector\n",
        "\n",
        "Click on the map to query Earth Engine data at a specific location."
      ],
      "id": "iA1J8qWfIHni"
    },
    {
      "cell_type": "code",
      "execution_count": null,
      "metadata": {
        "id": "OQtTEND_IHni"
      },
      "outputs": [],
      "source": [
        "m = geemap.Map(center=(40, -100), zoom=4)\n",
        "dem = ee.Image('USGS/SRTMGL1_003')\n",
        "landsat7 = ee.Image('LANDSAT/LE7_TOA_5YEAR/1999_2003')\n",
        "states = ee.FeatureCollection(\"TIGER/2018/States\")\n",
        "vis_params = {\n",
        "    'min': 0,\n",
        "    'max': 4000,\n",
        "    'palette': ['006633', 'E5FFCC', '662A00', 'D8D8D8', 'F5F5F5'],\n",
        "}\n",
        "m.add_layer(dem, vis_params, 'SRTM DEM')\n",
        "m.add_layer(\n",
        "    landsat7,\n",
        "    {'bands': ['B4', 'B3', 'B2'], 'min': 20, 'max': 200, 'gamma': 2.0},\n",
        "    'Landsat 7',\n",
        ")\n",
        "m.add_layer(states, {}, \"US States\")\n",
        "m.add('inspector')\n",
        "m"
      ],
      "id": "OQtTEND_IHni"
    },
    {
      "cell_type": "markdown",
      "metadata": {
        "id": "oORWlUdwIHni"
      },
      "source": [
        "## Layer Editor\n",
        "\n",
        "You can change the visualization parameters of the Earth Engine data using the layer editor.\n",
        "\n",
        "### Single-band image"
      ],
      "id": "oORWlUdwIHni"
    },
    {
      "cell_type": "code",
      "execution_count": null,
      "metadata": {
        "id": "GegSOjavIHni"
      },
      "outputs": [],
      "source": [
        "m = geemap.Map(center=(40, -100), zoom=4)\n",
        "dem = ee.Image('USGS/SRTMGL1_003')\n",
        "vis_params = {\n",
        "    'min': 0,\n",
        "    'max': 4000,\n",
        "    'palette': ['006633', 'E5FFCC', '662A00', 'D8D8D8', 'F5F5F5'],\n",
        "}\n",
        "m.add_layer(dem, vis_params, 'SRTM DEM')\n",
        "m.add('layer_editor', layer_dict=m.ee_layers['SRTM DEM'])\n",
        "m"
      ],
      "id": "GegSOjavIHni"
    },
    {
      "cell_type": "markdown",
      "metadata": {
        "id": "8FxNlCe0IHni"
      },
      "source": [
        "### Multi-band image"
      ],
      "id": "8FxNlCe0IHni"
    },
    {
      "cell_type": "code",
      "execution_count": null,
      "metadata": {
        "id": "ujDMpct2IHni"
      },
      "outputs": [],
      "source": [
        "m = geemap.Map(center=(40, -100), zoom=4)\n",
        "landsat7 = ee.Image('LANDSAT/LE7_TOA_5YEAR/1999_2003')\n",
        "m.add_layer(\n",
        "    landsat7,\n",
        "    {'bands': ['B4', 'B3', 'B2'], 'min': 20, 'max': 200, 'gamma': 2.0},\n",
        "    'Landsat 7',\n",
        ")\n",
        "m.add('layer_editor', layer_dict=m.ee_layers['Landsat 7'])\n",
        "m"
      ],
      "id": "ujDMpct2IHni"
    },
    {
      "cell_type": "markdown",
      "metadata": {
        "id": "MZTQK9zJIHnj"
      },
      "source": [
        "### Feature collection"
      ],
      "id": "MZTQK9zJIHnj"
    },
    {
      "cell_type": "code",
      "execution_count": null,
      "metadata": {
        "id": "2GCA1PtBIHnj"
      },
      "outputs": [],
      "source": [
        "m = geemap.Map(center=(40, -100), zoom=4)\n",
        "states = ee.FeatureCollection(\"TIGER/2018/States\")\n",
        "m.add_layer(states, {}, \"US States\")\n",
        "m.add('layer_editor', layer_dict=m.ee_layers['US States'])\n",
        "m"
      ],
      "id": "2GCA1PtBIHnj"
    },
    {
      "cell_type": "markdown",
      "metadata": {
        "id": "WXeW3AP3IHnj"
      },
      "source": [
        "## Draw control\n",
        "\n",
        "You can draw shapes on the map using the draw control. The drawn features will be automatically converted to Earth Engine objects, which can be accessed in one of the following ways:\n",
        "\n",
        "- To return the last drawn feature as an `ee.Geometry()`, use: `m._draw_control.last_geometry`\n",
        "- To return all the drawn feature as an `ee.Feature()`, use: `m._draw_control.last_feature`\n",
        "- To return all the drawn features as an `ee.FeatureCollection()`, use: `m._draw_control.collection`"
      ],
      "id": "WXeW3AP3IHnj"
    },
    {
      "cell_type": "code",
      "execution_count": null,
      "metadata": {
        "id": "mdL10pGuIHnj"
      },
      "outputs": [],
      "source": [
        "m = geemap.Map(center=(40, -100), zoom=4)\n",
        "dem = ee.Image('USGS/SRTMGL1_003')\n",
        "vis_params = {\n",
        "    'min': 0,\n",
        "    'max': 4000,\n",
        "    'palette': 'terrain',\n",
        "}\n",
        "m.add_layer(dem, vis_params, 'SRTM DEM')\n",
        "m.add('layer_manager')\n",
        "m"
      ],
      "id": "mdL10pGuIHnj"
    },
    {
      "cell_type": "markdown",
      "metadata": {
        "id": "TM5eI2JfIHnj"
      },
      "source": [
        "Use the draw control to draw a polygon on the map."
      ],
      "id": "TM5eI2JfIHnj"
    },
    {
      "cell_type": "code",
      "execution_count": null,
      "metadata": {
        "id": "C47sJfODIHnj"
      },
      "outputs": [],
      "source": [
        "geometry = m._draw_control.last_geometry\n",
        "geometry"
      ],
      "id": "C47sJfODIHnj"
    },
    {
      "cell_type": "code",
      "execution_count": null,
      "metadata": {
        "id": "vwL1P2KBIHnj"
      },
      "outputs": [],
      "source": [
        "feature = m._draw_control.last_feature\n",
        "feature"
      ],
      "id": "vwL1P2KBIHnj"
    },
    {
      "cell_type": "code",
      "execution_count": null,
      "metadata": {
        "id": "UAAjg3gpIHnj"
      },
      "outputs": [],
      "source": [
        "collection = m._draw_control.collection\n",
        "collection"
      ],
      "id": "UAAjg3gpIHnj"
    },
    {
      "cell_type": "markdown",
      "metadata": {
        "id": "NTyddjdnIHnj"
      },
      "source": [
        "Clip the DEM data using the drawn polygon."
      ],
      "id": "NTyddjdnIHnj"
    },
    {
      "cell_type": "code",
      "execution_count": null,
      "metadata": {
        "id": "sUkzfNmjIHnk"
      },
      "outputs": [],
      "source": [
        "if geometry is not None:\n",
        "    image = dem.clipToCollection(collection)\n",
        "    m.layers[1].visible = False\n",
        "    m.add_layer(image, vis_params, \"Clipped DEM\")\n",
        "m"
      ],
      "id": "sUkzfNmjIHnk"
    }
  ],
  "metadata": {
    "kernelspec": {
      "display_name": "Python 3",
      "language": "python",
      "name": "python3"
    },
    "language_info": {
      "codemirror_mode": {
        "name": "ipython",
        "version": 3
      },
      "file_extension": ".py",
      "mimetype": "text/x-python",
      "name": "python",
      "nbconvert_exporter": "python",
      "pygments_lexer": "ipython3",
      "version": "3.11.5"
    },
    "colab": {
      "provenance": [],
      "include_colab_link": true
    }
  },
  "nbformat": 4,
  "nbformat_minor": 5
}