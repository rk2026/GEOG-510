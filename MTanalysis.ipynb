{
  "cells": [
    {
      "cell_type": "markdown",
      "metadata": {
        "id": "view-in-github",
        "colab_type": "text"
      },
      "source": [
        "<a href=\"https://colab.research.google.com/github/rk2026/GEOG-510/blob/main/MTanalysis.ipynb\" target=\"_parent\"><img src=\"https://colab.research.google.com/assets/colab-badge.svg\" alt=\"Open In Colab\"/></a>"
      ]
    },
    {
      "cell_type": "markdown",
      "source": [
        "Import necessary library (Do we need all the library listed below? can we minimize it? Do research?)"
      ],
      "metadata": {
        "id": "tQPxGhSo4UjQ"
      }
    },
    {
      "cell_type": "code",
      "execution_count": 4,
      "metadata": {
        "id": "MQqVjkwKGtDW"
      },
      "outputs": [],
      "source": [
        "import os\n",
        "from google.colab import drive\n",
        "import geopandas as gpd\n",
        "import pandas as pd\n",
        "import matplotlib.pyplot as plt\n",
        "from shapely.geometry import Point\n",
        "from shapely.geometry import Polygon\n",
        "from itertools import product\n",
        "from google.colab import data_table\n",
        "import math\n",
        "from google.colab import files\n",
        "data_table.enable_dataframe_formatter()"
      ]
    },
    {
      "cell_type": "markdown",
      "source": [
        "In case, we load necessary data from google drive so we need provide to acess our drive."
      ],
      "metadata": {
        "id": "lkvxBFXu40Gv"
      }
    },
    {
      "cell_type": "code",
      "execution_count": 5,
      "metadata": {
        "id": "WkjIdnqLGvkA"
      },
      "outputs": [],
      "source": [
        "#drive.mount('/content/drive')"
      ]
    },
    {
      "cell_type": "markdown",
      "source": [
        "Now we already created a folder within google drive namely 'MTanalysis'. This folder contains the data we need to process"
      ],
      "metadata": {
        "id": "zQXU-cV35bnx"
      }
    },
    {
      "cell_type": "code",
      "execution_count": 6,
      "metadata": {
        "id": "aOTOX8HnGyzP"
      },
      "outputs": [],
      "source": [
        "#data_folder = os.path.join('drive', 'My Drive', 'MTanalysis')"
      ]
    },
    {
      "cell_type": "markdown",
      "source": [
        "Read the shapefile that is the boundary of community forests from google drive's folder named **`MTanalysis`**"
      ],
      "metadata": {
        "id": "XN7opyCR54oM"
      }
    },
    {
      "cell_type": "code",
      "execution_count": 7,
      "metadata": {
        "id": "ezHA7v99G4op"
      },
      "outputs": [],
      "source": [
        "#cfouter_shp = gpd.read_file(os.path.join(data_folder, 'cfouter.shp'))"
      ]
    },
    {
      "cell_type": "markdown",
      "source": [
        "Read the CSV file. This file contains stem mapping data for each tree within the extent."
      ],
      "metadata": {
        "id": "lUysdJl76pJh"
      }
    },
    {
      "cell_type": "code",
      "source": [
        "#treeloc_csv = pd.read_csv(os.path.join(data_folder, 'TreeLoc.csv'))\n",
        "#sppVal = pd.read_csv(os.path.join(data_folder, 'sppVal.csv'))"
      ],
      "metadata": {
        "id": "aRnraL-W6uQn"
      },
      "execution_count": 8,
      "outputs": []
    },
    {
      "cell_type": "markdown",
      "source": [
        "Read the CSV file into a Pandas DataFrame"
      ],
      "metadata": {
        "id": "hCf92Eok_F7j"
      }
    },
    {
      "cell_type": "code",
      "execution_count": 9,
      "metadata": {
        "id": "nQa4sQMLtHs2"
      },
      "outputs": [],
      "source": [
        "#df = pd.read_csv(\"/content/drive/MyDrive/MTanalysis/TreeLoc.csv\")"
      ]
    },
    {
      "cell_type": "markdown",
      "source": [
        "Upload csv files from local computer.It will tree location data."
      ],
      "metadata": {
        "id": "dhbwvkBZkpIY"
      }
    },
    {
      "source": [
        "stemmapping = files.upload()"
      ],
      "cell_type": "code",
      "metadata": {
        "id": "BapYq7yyk1Sv",
        "colab": {
          "base_uri": "https://localhost:8080/",
          "height": 74
        },
        "outputId": "1d7611e1-34df-4647-b3e9-f097af8a181c"
      },
      "execution_count": 10,
      "outputs": [
        {
          "output_type": "display_data",
          "data": {
            "text/plain": [
              "<IPython.core.display.HTML object>"
            ],
            "text/html": [
              "\n",
              "     <input type=\"file\" id=\"files-cdf3e4f1-7c18-4e79-83e8-94b5270f2768\" name=\"files[]\" multiple disabled\n",
              "        style=\"border:none\" />\n",
              "     <output id=\"result-cdf3e4f1-7c18-4e79-83e8-94b5270f2768\">\n",
              "      Upload widget is only available when the cell has been executed in the\n",
              "      current browser session. Please rerun this cell to enable.\n",
              "      </output>\n",
              "      <script>// Copyright 2017 Google LLC\n",
              "//\n",
              "// Licensed under the Apache License, Version 2.0 (the \"License\");\n",
              "// you may not use this file except in compliance with the License.\n",
              "// You may obtain a copy of the License at\n",
              "//\n",
              "//      http://www.apache.org/licenses/LICENSE-2.0\n",
              "//\n",
              "// Unless required by applicable law or agreed to in writing, software\n",
              "// distributed under the License is distributed on an \"AS IS\" BASIS,\n",
              "// WITHOUT WARRANTIES OR CONDITIONS OF ANY KIND, either express or implied.\n",
              "// See the License for the specific language governing permissions and\n",
              "// limitations under the License.\n",
              "\n",
              "/**\n",
              " * @fileoverview Helpers for google.colab Python module.\n",
              " */\n",
              "(function(scope) {\n",
              "function span(text, styleAttributes = {}) {\n",
              "  const element = document.createElement('span');\n",
              "  element.textContent = text;\n",
              "  for (const key of Object.keys(styleAttributes)) {\n",
              "    element.style[key] = styleAttributes[key];\n",
              "  }\n",
              "  return element;\n",
              "}\n",
              "\n",
              "// Max number of bytes which will be uploaded at a time.\n",
              "const MAX_PAYLOAD_SIZE = 100 * 1024;\n",
              "\n",
              "function _uploadFiles(inputId, outputId) {\n",
              "  const steps = uploadFilesStep(inputId, outputId);\n",
              "  const outputElement = document.getElementById(outputId);\n",
              "  // Cache steps on the outputElement to make it available for the next call\n",
              "  // to uploadFilesContinue from Python.\n",
              "  outputElement.steps = steps;\n",
              "\n",
              "  return _uploadFilesContinue(outputId);\n",
              "}\n",
              "\n",
              "// This is roughly an async generator (not supported in the browser yet),\n",
              "// where there are multiple asynchronous steps and the Python side is going\n",
              "// to poll for completion of each step.\n",
              "// This uses a Promise to block the python side on completion of each step,\n",
              "// then passes the result of the previous step as the input to the next step.\n",
              "function _uploadFilesContinue(outputId) {\n",
              "  const outputElement = document.getElementById(outputId);\n",
              "  const steps = outputElement.steps;\n",
              "\n",
              "  const next = steps.next(outputElement.lastPromiseValue);\n",
              "  return Promise.resolve(next.value.promise).then((value) => {\n",
              "    // Cache the last promise value to make it available to the next\n",
              "    // step of the generator.\n",
              "    outputElement.lastPromiseValue = value;\n",
              "    return next.value.response;\n",
              "  });\n",
              "}\n",
              "\n",
              "/**\n",
              " * Generator function which is called between each async step of the upload\n",
              " * process.\n",
              " * @param {string} inputId Element ID of the input file picker element.\n",
              " * @param {string} outputId Element ID of the output display.\n",
              " * @return {!Iterable<!Object>} Iterable of next steps.\n",
              " */\n",
              "function* uploadFilesStep(inputId, outputId) {\n",
              "  const inputElement = document.getElementById(inputId);\n",
              "  inputElement.disabled = false;\n",
              "\n",
              "  const outputElement = document.getElementById(outputId);\n",
              "  outputElement.innerHTML = '';\n",
              "\n",
              "  const pickedPromise = new Promise((resolve) => {\n",
              "    inputElement.addEventListener('change', (e) => {\n",
              "      resolve(e.target.files);\n",
              "    });\n",
              "  });\n",
              "\n",
              "  const cancel = document.createElement('button');\n",
              "  inputElement.parentElement.appendChild(cancel);\n",
              "  cancel.textContent = 'Cancel upload';\n",
              "  const cancelPromise = new Promise((resolve) => {\n",
              "    cancel.onclick = () => {\n",
              "      resolve(null);\n",
              "    };\n",
              "  });\n",
              "\n",
              "  // Wait for the user to pick the files.\n",
              "  const files = yield {\n",
              "    promise: Promise.race([pickedPromise, cancelPromise]),\n",
              "    response: {\n",
              "      action: 'starting',\n",
              "    }\n",
              "  };\n",
              "\n",
              "  cancel.remove();\n",
              "\n",
              "  // Disable the input element since further picks are not allowed.\n",
              "  inputElement.disabled = true;\n",
              "\n",
              "  if (!files) {\n",
              "    return {\n",
              "      response: {\n",
              "        action: 'complete',\n",
              "      }\n",
              "    };\n",
              "  }\n",
              "\n",
              "  for (const file of files) {\n",
              "    const li = document.createElement('li');\n",
              "    li.append(span(file.name, {fontWeight: 'bold'}));\n",
              "    li.append(span(\n",
              "        `(${file.type || 'n/a'}) - ${file.size} bytes, ` +\n",
              "        `last modified: ${\n",
              "            file.lastModifiedDate ? file.lastModifiedDate.toLocaleDateString() :\n",
              "                                    'n/a'} - `));\n",
              "    const percent = span('0% done');\n",
              "    li.appendChild(percent);\n",
              "\n",
              "    outputElement.appendChild(li);\n",
              "\n",
              "    const fileDataPromise = new Promise((resolve) => {\n",
              "      const reader = new FileReader();\n",
              "      reader.onload = (e) => {\n",
              "        resolve(e.target.result);\n",
              "      };\n",
              "      reader.readAsArrayBuffer(file);\n",
              "    });\n",
              "    // Wait for the data to be ready.\n",
              "    let fileData = yield {\n",
              "      promise: fileDataPromise,\n",
              "      response: {\n",
              "        action: 'continue',\n",
              "      }\n",
              "    };\n",
              "\n",
              "    // Use a chunked sending to avoid message size limits. See b/62115660.\n",
              "    let position = 0;\n",
              "    do {\n",
              "      const length = Math.min(fileData.byteLength - position, MAX_PAYLOAD_SIZE);\n",
              "      const chunk = new Uint8Array(fileData, position, length);\n",
              "      position += length;\n",
              "\n",
              "      const base64 = btoa(String.fromCharCode.apply(null, chunk));\n",
              "      yield {\n",
              "        response: {\n",
              "          action: 'append',\n",
              "          file: file.name,\n",
              "          data: base64,\n",
              "        },\n",
              "      };\n",
              "\n",
              "      let percentDone = fileData.byteLength === 0 ?\n",
              "          100 :\n",
              "          Math.round((position / fileData.byteLength) * 100);\n",
              "      percent.textContent = `${percentDone}% done`;\n",
              "\n",
              "    } while (position < fileData.byteLength);\n",
              "  }\n",
              "\n",
              "  // All done.\n",
              "  yield {\n",
              "    response: {\n",
              "      action: 'complete',\n",
              "    }\n",
              "  };\n",
              "}\n",
              "\n",
              "scope.google = scope.google || {};\n",
              "scope.google.colab = scope.google.colab || {};\n",
              "scope.google.colab._files = {\n",
              "  _uploadFiles,\n",
              "  _uploadFilesContinue,\n",
              "};\n",
              "})(self);\n",
              "</script> "
            ]
          },
          "metadata": {}
        },
        {
          "output_type": "stream",
          "name": "stdout",
          "text": [
            "Saving TreeLoc.csv to TreeLoc.csv\n"
          ]
        }
      ]
    },
    {
      "cell_type": "code",
      "source": [
        "df = pd.read_csv('TreeLoc.csv')\n",
        "df"
      ],
      "metadata": {
        "id": "n55p9NKQGDyH"
      },
      "execution_count": 11,
      "outputs": []
    },
    {
      "cell_type": "markdown",
      "source": [
        "upload csv file containing species value a, b,c,a1,b1, c1, b, g, bg"
      ],
      "metadata": {
        "id": "xBPhc_kLGPOD"
      }
    },
    {
      "cell_type": "code",
      "source": [
        "sppVal = files.upload()"
      ],
      "metadata": {
        "id": "ZJvZGhkSF6yt",
        "colab": {
          "base_uri": "https://localhost:8080/",
          "height": 74
        },
        "outputId": "2a948ba2-e58a-495c-d983-fe5fd2a0fcb3"
      },
      "execution_count": 12,
      "outputs": [
        {
          "output_type": "display_data",
          "data": {
            "text/plain": [
              "<IPython.core.display.HTML object>"
            ],
            "text/html": [
              "\n",
              "     <input type=\"file\" id=\"files-984117ba-885f-424d-9b7d-b772236ab591\" name=\"files[]\" multiple disabled\n",
              "        style=\"border:none\" />\n",
              "     <output id=\"result-984117ba-885f-424d-9b7d-b772236ab591\">\n",
              "      Upload widget is only available when the cell has been executed in the\n",
              "      current browser session. Please rerun this cell to enable.\n",
              "      </output>\n",
              "      <script>// Copyright 2017 Google LLC\n",
              "//\n",
              "// Licensed under the Apache License, Version 2.0 (the \"License\");\n",
              "// you may not use this file except in compliance with the License.\n",
              "// You may obtain a copy of the License at\n",
              "//\n",
              "//      http://www.apache.org/licenses/LICENSE-2.0\n",
              "//\n",
              "// Unless required by applicable law or agreed to in writing, software\n",
              "// distributed under the License is distributed on an \"AS IS\" BASIS,\n",
              "// WITHOUT WARRANTIES OR CONDITIONS OF ANY KIND, either express or implied.\n",
              "// See the License for the specific language governing permissions and\n",
              "// limitations under the License.\n",
              "\n",
              "/**\n",
              " * @fileoverview Helpers for google.colab Python module.\n",
              " */\n",
              "(function(scope) {\n",
              "function span(text, styleAttributes = {}) {\n",
              "  const element = document.createElement('span');\n",
              "  element.textContent = text;\n",
              "  for (const key of Object.keys(styleAttributes)) {\n",
              "    element.style[key] = styleAttributes[key];\n",
              "  }\n",
              "  return element;\n",
              "}\n",
              "\n",
              "// Max number of bytes which will be uploaded at a time.\n",
              "const MAX_PAYLOAD_SIZE = 100 * 1024;\n",
              "\n",
              "function _uploadFiles(inputId, outputId) {\n",
              "  const steps = uploadFilesStep(inputId, outputId);\n",
              "  const outputElement = document.getElementById(outputId);\n",
              "  // Cache steps on the outputElement to make it available for the next call\n",
              "  // to uploadFilesContinue from Python.\n",
              "  outputElement.steps = steps;\n",
              "\n",
              "  return _uploadFilesContinue(outputId);\n",
              "}\n",
              "\n",
              "// This is roughly an async generator (not supported in the browser yet),\n",
              "// where there are multiple asynchronous steps and the Python side is going\n",
              "// to poll for completion of each step.\n",
              "// This uses a Promise to block the python side on completion of each step,\n",
              "// then passes the result of the previous step as the input to the next step.\n",
              "function _uploadFilesContinue(outputId) {\n",
              "  const outputElement = document.getElementById(outputId);\n",
              "  const steps = outputElement.steps;\n",
              "\n",
              "  const next = steps.next(outputElement.lastPromiseValue);\n",
              "  return Promise.resolve(next.value.promise).then((value) => {\n",
              "    // Cache the last promise value to make it available to the next\n",
              "    // step of the generator.\n",
              "    outputElement.lastPromiseValue = value;\n",
              "    return next.value.response;\n",
              "  });\n",
              "}\n",
              "\n",
              "/**\n",
              " * Generator function which is called between each async step of the upload\n",
              " * process.\n",
              " * @param {string} inputId Element ID of the input file picker element.\n",
              " * @param {string} outputId Element ID of the output display.\n",
              " * @return {!Iterable<!Object>} Iterable of next steps.\n",
              " */\n",
              "function* uploadFilesStep(inputId, outputId) {\n",
              "  const inputElement = document.getElementById(inputId);\n",
              "  inputElement.disabled = false;\n",
              "\n",
              "  const outputElement = document.getElementById(outputId);\n",
              "  outputElement.innerHTML = '';\n",
              "\n",
              "  const pickedPromise = new Promise((resolve) => {\n",
              "    inputElement.addEventListener('change', (e) => {\n",
              "      resolve(e.target.files);\n",
              "    });\n",
              "  });\n",
              "\n",
              "  const cancel = document.createElement('button');\n",
              "  inputElement.parentElement.appendChild(cancel);\n",
              "  cancel.textContent = 'Cancel upload';\n",
              "  const cancelPromise = new Promise((resolve) => {\n",
              "    cancel.onclick = () => {\n",
              "      resolve(null);\n",
              "    };\n",
              "  });\n",
              "\n",
              "  // Wait for the user to pick the files.\n",
              "  const files = yield {\n",
              "    promise: Promise.race([pickedPromise, cancelPromise]),\n",
              "    response: {\n",
              "      action: 'starting',\n",
              "    }\n",
              "  };\n",
              "\n",
              "  cancel.remove();\n",
              "\n",
              "  // Disable the input element since further picks are not allowed.\n",
              "  inputElement.disabled = true;\n",
              "\n",
              "  if (!files) {\n",
              "    return {\n",
              "      response: {\n",
              "        action: 'complete',\n",
              "      }\n",
              "    };\n",
              "  }\n",
              "\n",
              "  for (const file of files) {\n",
              "    const li = document.createElement('li');\n",
              "    li.append(span(file.name, {fontWeight: 'bold'}));\n",
              "    li.append(span(\n",
              "        `(${file.type || 'n/a'}) - ${file.size} bytes, ` +\n",
              "        `last modified: ${\n",
              "            file.lastModifiedDate ? file.lastModifiedDate.toLocaleDateString() :\n",
              "                                    'n/a'} - `));\n",
              "    const percent = span('0% done');\n",
              "    li.appendChild(percent);\n",
              "\n",
              "    outputElement.appendChild(li);\n",
              "\n",
              "    const fileDataPromise = new Promise((resolve) => {\n",
              "      const reader = new FileReader();\n",
              "      reader.onload = (e) => {\n",
              "        resolve(e.target.result);\n",
              "      };\n",
              "      reader.readAsArrayBuffer(file);\n",
              "    });\n",
              "    // Wait for the data to be ready.\n",
              "    let fileData = yield {\n",
              "      promise: fileDataPromise,\n",
              "      response: {\n",
              "        action: 'continue',\n",
              "      }\n",
              "    };\n",
              "\n",
              "    // Use a chunked sending to avoid message size limits. See b/62115660.\n",
              "    let position = 0;\n",
              "    do {\n",
              "      const length = Math.min(fileData.byteLength - position, MAX_PAYLOAD_SIZE);\n",
              "      const chunk = new Uint8Array(fileData, position, length);\n",
              "      position += length;\n",
              "\n",
              "      const base64 = btoa(String.fromCharCode.apply(null, chunk));\n",
              "      yield {\n",
              "        response: {\n",
              "          action: 'append',\n",
              "          file: file.name,\n",
              "          data: base64,\n",
              "        },\n",
              "      };\n",
              "\n",
              "      let percentDone = fileData.byteLength === 0 ?\n",
              "          100 :\n",
              "          Math.round((position / fileData.byteLength) * 100);\n",
              "      percent.textContent = `${percentDone}% done`;\n",
              "\n",
              "    } while (position < fileData.byteLength);\n",
              "  }\n",
              "\n",
              "  // All done.\n",
              "  yield {\n",
              "    response: {\n",
              "      action: 'complete',\n",
              "    }\n",
              "  };\n",
              "}\n",
              "\n",
              "scope.google = scope.google || {};\n",
              "scope.google.colab = scope.google.colab || {};\n",
              "scope.google.colab._files = {\n",
              "  _uploadFiles,\n",
              "  _uploadFilesContinue,\n",
              "};\n",
              "})(self);\n",
              "</script> "
            ]
          },
          "metadata": {}
        },
        {
          "output_type": "stream",
          "name": "stdout",
          "text": [
            "Saving sppVal.csv to sppVal.csv\n"
          ]
        }
      ]
    },
    {
      "cell_type": "code",
      "source": [
        "sppVal = pd.read_csv('sppVal.csv')"
      ],
      "metadata": {
        "id": "BWm9M4exlnyO"
      },
      "execution_count": 13,
      "outputs": []
    },
    {
      "cell_type": "markdown",
      "source": [
        "upload ESRI shape file(The outer boundary of stemmapping area)."
      ],
      "metadata": {
        "id": "9AumH9kXIM0b"
      }
    },
    {
      "cell_type": "code",
      "source": [
        "cfouter_shp = files.upload()"
      ],
      "metadata": {
        "id": "ZmwTaicmIZw9",
        "colab": {
          "base_uri": "https://localhost:8080/",
          "height": 74
        },
        "outputId": "53b972e9-9d8b-4dd4-c6bb-8284dceb83c2"
      },
      "execution_count": 14,
      "outputs": [
        {
          "output_type": "display_data",
          "data": {
            "text/plain": [
              "<IPython.core.display.HTML object>"
            ],
            "text/html": [
              "\n",
              "     <input type=\"file\" id=\"files-6dda49f3-2c93-42f9-bad5-c923f16662ef\" name=\"files[]\" multiple disabled\n",
              "        style=\"border:none\" />\n",
              "     <output id=\"result-6dda49f3-2c93-42f9-bad5-c923f16662ef\">\n",
              "      Upload widget is only available when the cell has been executed in the\n",
              "      current browser session. Please rerun this cell to enable.\n",
              "      </output>\n",
              "      <script>// Copyright 2017 Google LLC\n",
              "//\n",
              "// Licensed under the Apache License, Version 2.0 (the \"License\");\n",
              "// you may not use this file except in compliance with the License.\n",
              "// You may obtain a copy of the License at\n",
              "//\n",
              "//      http://www.apache.org/licenses/LICENSE-2.0\n",
              "//\n",
              "// Unless required by applicable law or agreed to in writing, software\n",
              "// distributed under the License is distributed on an \"AS IS\" BASIS,\n",
              "// WITHOUT WARRANTIES OR CONDITIONS OF ANY KIND, either express or implied.\n",
              "// See the License for the specific language governing permissions and\n",
              "// limitations under the License.\n",
              "\n",
              "/**\n",
              " * @fileoverview Helpers for google.colab Python module.\n",
              " */\n",
              "(function(scope) {\n",
              "function span(text, styleAttributes = {}) {\n",
              "  const element = document.createElement('span');\n",
              "  element.textContent = text;\n",
              "  for (const key of Object.keys(styleAttributes)) {\n",
              "    element.style[key] = styleAttributes[key];\n",
              "  }\n",
              "  return element;\n",
              "}\n",
              "\n",
              "// Max number of bytes which will be uploaded at a time.\n",
              "const MAX_PAYLOAD_SIZE = 100 * 1024;\n",
              "\n",
              "function _uploadFiles(inputId, outputId) {\n",
              "  const steps = uploadFilesStep(inputId, outputId);\n",
              "  const outputElement = document.getElementById(outputId);\n",
              "  // Cache steps on the outputElement to make it available for the next call\n",
              "  // to uploadFilesContinue from Python.\n",
              "  outputElement.steps = steps;\n",
              "\n",
              "  return _uploadFilesContinue(outputId);\n",
              "}\n",
              "\n",
              "// This is roughly an async generator (not supported in the browser yet),\n",
              "// where there are multiple asynchronous steps and the Python side is going\n",
              "// to poll for completion of each step.\n",
              "// This uses a Promise to block the python side on completion of each step,\n",
              "// then passes the result of the previous step as the input to the next step.\n",
              "function _uploadFilesContinue(outputId) {\n",
              "  const outputElement = document.getElementById(outputId);\n",
              "  const steps = outputElement.steps;\n",
              "\n",
              "  const next = steps.next(outputElement.lastPromiseValue);\n",
              "  return Promise.resolve(next.value.promise).then((value) => {\n",
              "    // Cache the last promise value to make it available to the next\n",
              "    // step of the generator.\n",
              "    outputElement.lastPromiseValue = value;\n",
              "    return next.value.response;\n",
              "  });\n",
              "}\n",
              "\n",
              "/**\n",
              " * Generator function which is called between each async step of the upload\n",
              " * process.\n",
              " * @param {string} inputId Element ID of the input file picker element.\n",
              " * @param {string} outputId Element ID of the output display.\n",
              " * @return {!Iterable<!Object>} Iterable of next steps.\n",
              " */\n",
              "function* uploadFilesStep(inputId, outputId) {\n",
              "  const inputElement = document.getElementById(inputId);\n",
              "  inputElement.disabled = false;\n",
              "\n",
              "  const outputElement = document.getElementById(outputId);\n",
              "  outputElement.innerHTML = '';\n",
              "\n",
              "  const pickedPromise = new Promise((resolve) => {\n",
              "    inputElement.addEventListener('change', (e) => {\n",
              "      resolve(e.target.files);\n",
              "    });\n",
              "  });\n",
              "\n",
              "  const cancel = document.createElement('button');\n",
              "  inputElement.parentElement.appendChild(cancel);\n",
              "  cancel.textContent = 'Cancel upload';\n",
              "  const cancelPromise = new Promise((resolve) => {\n",
              "    cancel.onclick = () => {\n",
              "      resolve(null);\n",
              "    };\n",
              "  });\n",
              "\n",
              "  // Wait for the user to pick the files.\n",
              "  const files = yield {\n",
              "    promise: Promise.race([pickedPromise, cancelPromise]),\n",
              "    response: {\n",
              "      action: 'starting',\n",
              "    }\n",
              "  };\n",
              "\n",
              "  cancel.remove();\n",
              "\n",
              "  // Disable the input element since further picks are not allowed.\n",
              "  inputElement.disabled = true;\n",
              "\n",
              "  if (!files) {\n",
              "    return {\n",
              "      response: {\n",
              "        action: 'complete',\n",
              "      }\n",
              "    };\n",
              "  }\n",
              "\n",
              "  for (const file of files) {\n",
              "    const li = document.createElement('li');\n",
              "    li.append(span(file.name, {fontWeight: 'bold'}));\n",
              "    li.append(span(\n",
              "        `(${file.type || 'n/a'}) - ${file.size} bytes, ` +\n",
              "        `last modified: ${\n",
              "            file.lastModifiedDate ? file.lastModifiedDate.toLocaleDateString() :\n",
              "                                    'n/a'} - `));\n",
              "    const percent = span('0% done');\n",
              "    li.appendChild(percent);\n",
              "\n",
              "    outputElement.appendChild(li);\n",
              "\n",
              "    const fileDataPromise = new Promise((resolve) => {\n",
              "      const reader = new FileReader();\n",
              "      reader.onload = (e) => {\n",
              "        resolve(e.target.result);\n",
              "      };\n",
              "      reader.readAsArrayBuffer(file);\n",
              "    });\n",
              "    // Wait for the data to be ready.\n",
              "    let fileData = yield {\n",
              "      promise: fileDataPromise,\n",
              "      response: {\n",
              "        action: 'continue',\n",
              "      }\n",
              "    };\n",
              "\n",
              "    // Use a chunked sending to avoid message size limits. See b/62115660.\n",
              "    let position = 0;\n",
              "    do {\n",
              "      const length = Math.min(fileData.byteLength - position, MAX_PAYLOAD_SIZE);\n",
              "      const chunk = new Uint8Array(fileData, position, length);\n",
              "      position += length;\n",
              "\n",
              "      const base64 = btoa(String.fromCharCode.apply(null, chunk));\n",
              "      yield {\n",
              "        response: {\n",
              "          action: 'append',\n",
              "          file: file.name,\n",
              "          data: base64,\n",
              "        },\n",
              "      };\n",
              "\n",
              "      let percentDone = fileData.byteLength === 0 ?\n",
              "          100 :\n",
              "          Math.round((position / fileData.byteLength) * 100);\n",
              "      percent.textContent = `${percentDone}% done`;\n",
              "\n",
              "    } while (position < fileData.byteLength);\n",
              "  }\n",
              "\n",
              "  // All done.\n",
              "  yield {\n",
              "    response: {\n",
              "      action: 'complete',\n",
              "    }\n",
              "  };\n",
              "}\n",
              "\n",
              "scope.google = scope.google || {};\n",
              "scope.google.colab = scope.google.colab || {};\n",
              "scope.google.colab._files = {\n",
              "  _uploadFiles,\n",
              "  _uploadFilesContinue,\n",
              "};\n",
              "})(self);\n",
              "</script> "
            ]
          },
          "metadata": {}
        },
        {
          "output_type": "stream",
          "name": "stdout",
          "text": [
            "Saving cfouter.zip to cfouter.zip\n"
          ]
        }
      ]
    },
    {
      "cell_type": "markdown",
      "source": [
        "plot shape file"
      ],
      "metadata": {
        "id": "vR8pABB-I7wj"
      }
    },
    {
      "cell_type": "code",
      "source": [
        "import geopandas as gpd\n",
        "data = gpd.read_file('zip://cfouter.zip!/cfouter.shp')\n",
        "data.plot()"
      ],
      "metadata": {
        "id": "rMxZPJxRI4Zs",
        "colab": {
          "base_uri": "https://localhost:8080/",
          "height": 463
        },
        "outputId": "f1932c6d-c781-46bb-dcfe-8379d0be80f7"
      },
      "execution_count": 44,
      "outputs": [
        {
          "output_type": "execute_result",
          "data": {
            "text/plain": [
              "<Axes: >"
            ]
          },
          "metadata": {},
          "execution_count": 44
        },
        {
          "output_type": "display_data",
          "data": {
            "text/plain": [
              "<Figure size 640x480 with 1 Axes>"
            ],
            "image/png": "[encoded data removed]"
          },
          "metadata": {}
        }
      ]
    },
    {
      "cell_type": "markdown",
      "source": [
        "Create a GeoDataFrame with the X and Y columns as geometry"
      ],
      "metadata": {
        "id": "4DMVwQtb_eoA"
      }
    },
    {
      "cell_type": "code",
      "source": [
        "geometry = gpd.points_from_xy(df[\"X\"], df[\"Y\"])\n",
        "gdf = gpd.GeoDataFrame(df, geometry=geometry)\n",
        "# Set the coordinate reference system (CRS) to UTM zone 32645\n",
        "gdf.crs = \"EPSG:32645\""
      ],
      "metadata": {
        "id": "csVTjprI_eAu"
      },
      "execution_count": 45,
      "outputs": []
    },
    {
      "cell_type": "markdown",
      "metadata": {
        "id": "yckYaqujz2uZ"
      },
      "source": [
        "Create fishnet and findout the centroid of the fishnet polygon"
      ]
    },
    {
      "cell_type": "code",
      "execution_count": 46,
      "metadata": {
        "id": "nMTfUVddvkC8"
      },
      "outputs": [],
      "source": [
        "# Define the bounding box coordinates\n",
        "min_x, min_y = gdf['X'].min(), gdf['Y'].min()\n",
        "max_x, max_y = gdf['X'].max(), gdf['Y'].max()\n",
        "\n",
        "# Define the number of rows and columns\n",
        "rows = 20\n",
        "cols = 20\n",
        "\n",
        "# Calculate the width and height of each grid cell\n",
        "width = (max_x - min_x) / cols\n",
        "height = (max_y - min_y) / rows\n",
        "\n",
        "# Generate the grid of polygons\n",
        "polygons = []\n",
        "for i, j in product(range(rows), range(cols)):\n",
        "    xmin = min_x + i * width\n",
        "    xmax = min_x + (i + 1) * width\n",
        "    ymin = min_y + j * height\n",
        "    ymax = min_y + (j + 1) * height\n",
        "    polygon = Polygon([(xmin, ymin), (xmax, ymin), (xmax, ymax), (xmin, ymax)])\n",
        "    polygons.append(polygon)\n",
        "\n",
        "# Create a GeoDataFrame from the polygons\n",
        "grid = gpd.GeoDataFrame(geometry=polygons, crs='EPSG:32645')\n",
        "\n",
        "# Plot the grid\n",
        "#ax = grid.plot(edgecolor='black', figsize=(10, 10))\n",
        "#ax.set_xlim(min_x - 1, max_x + 1)\n",
        "#ax.set_ylim(min_y - 1, max_y + 1)"
      ]
    },
    {
      "cell_type": "code",
      "execution_count": 47,
      "metadata": {
        "id": "AKxocAOS56Zg"
      },
      "outputs": [],
      "source": [
        "centroid = grid.geometry.centroid"
      ]
    },
    {
      "cell_type": "markdown",
      "metadata": {
        "id": "YmzLQBRYCHll"
      },
      "source": [
        "The centroid is in geoseries format. We need to convert it in geopandas dataframe format."
      ]
    },
    {
      "cell_type": "code",
      "execution_count": 48,
      "metadata": {
        "id": "UOU_TqHn_oF9",
        "colab": {
          "base_uri": "https://localhost:8080/"
        },
        "outputId": "127efedd-4d74-49a9-81b9-eb4c82855675"
      },
      "outputs": [
        {
          "output_type": "execute_result",
          "data": {
            "text/plain": [
              "<geopandas.sindex.PyGEOSSTRTreeIndex at 0x7b31456cec20>"
            ]
          },
          "metadata": {},
          "execution_count": 48
        }
      ],
      "source": [
        "#convert geoseris to geodataframe\n",
        "data = {'geometry': centroid}\n",
        "# Create a GeoDataFrame from the dictionary\n",
        "centroid_gdf = gpd.GeoDataFrame(data)\n",
        "centroid_gdf.sindex\n",
        "#centroid_gdf.plot()"
      ]
    },
    {
      "cell_type": "markdown",
      "metadata": {
        "id": "LjgUS4lin57z"
      },
      "source": [
        "Spatial join based on closest."
      ]
    },
    {
      "cell_type": "code",
      "execution_count": 49,
      "metadata": {
        "id": "qyxfwHVGESOO"
      },
      "outputs": [],
      "source": [
        "joined = gpd.sjoin_nearest(centroid_gdf,gdf, how=\"right\", distance_col=\"distance\")"
      ]
    },
    {
      "cell_type": "markdown",
      "metadata": {
        "id": "Hvqk6vcL36zd"
      },
      "source": [
        "Export shape file to drive"
      ]
    },
    {
      "cell_type": "code",
      "execution_count": 21,
      "metadata": {
        "id": "foW9Ov4B4BI1"
      },
      "outputs": [],
      "source": [
        "#joined.to_file(\"/content/drive/MyDrive/MTanalysis/joined.shp\")"
      ]
    },
    {
      "cell_type": "code",
      "execution_count": 22,
      "metadata": {
        "id": "ZjdR8NNM5fy2"
      },
      "outputs": [],
      "source": [
        "#joined.to_file(\"/content/drive/MyDrive/MTanalysis/joined.shp\")"
      ]
    },
    {
      "cell_type": "code",
      "execution_count": 23,
      "metadata": {
        "id": "aQdk5NW85m3h"
      },
      "outputs": [],
      "source": [
        "#gdf.to_file(\"/content/drive/MyDrive/MTanalysis/gdf.shp\")"
      ]
    },
    {
      "cell_type": "code",
      "execution_count": 24,
      "metadata": {
        "id": "CXOINMb55v9h"
      },
      "outputs": [],
      "source": [
        "#centroid_gdf.to_file(\"/content/drive/MyDrive/MTanalysis/centroid_gdf.shp\")"
      ]
    },
    {
      "cell_type": "code",
      "execution_count": 25,
      "metadata": {
        "id": "6wNRsz3FVEMZ"
      },
      "outputs": [],
      "source": [
        "Joined_sorted = joined.sort_values(by=['index_left', 'class'], ascending=True)"
      ]
    },
    {
      "cell_type": "markdown",
      "metadata": {
        "id": "9NmMs7813Erd"
      },
      "source": [
        ":# Group the GeoDataFrame by the 'right_index' column"
      ]
    },
    {
      "cell_type": "code",
      "execution_count": 50,
      "metadata": {
        "id": "8UHI5dHY3UDN"
      },
      "outputs": [],
      "source": [
        "grouped_gdf = Joined_sorted.groupby('index_left')"
      ]
    },
    {
      "cell_type": "code",
      "execution_count": 51,
      "metadata": {
        "id": "3FC7cAaH40ft"
      },
      "outputs": [],
      "source": [
        "first_unique_rows = grouped_gdf.head(1)"
      ]
    },
    {
      "cell_type": "code",
      "source": [
        "mt=first_unique_rows.copy()"
      ],
      "metadata": {
        "id": "MhGl2ekBLI6u"
      },
      "execution_count": 52,
      "outputs": []
    },
    {
      "cell_type": "code",
      "source": [
        "# Create a copy of Joined_sorted\n",
        "df_with_remarks = Joined_sorted.copy()\n",
        "\n",
        "# Add a new column named 'Remarks'\n",
        "df_with_remarks['status'] = ''\n",
        "\n",
        "# Find the indices of TreeIDs that are in the 'mt' variable\n",
        "mt_indices = df_with_remarks.index[df_with_remarks['TID'].isin(mt['TID'])]\n",
        "\n",
        "# Update the 'Remarks' column for those indices with 'mt'\n",
        "df_with_remarks.loc[mt_indices, 'status'] = 'Mother Tree'\n",
        "\n",
        "# Print the updated DataFrame\n",
        "df_with_remarks"
      ],
      "metadata": {
        "id": "ghddUEB5NDS2",
        "colab": {
          "base_uri": "https://localhost:8080/",
          "height": 789
        },
        "outputId": "20f0e667-ca93-4147-d7f2-cee383b2d99a"
      },
      "execution_count": 53,
      "outputs": [
        {
          "output_type": "stream",
          "name": "stdout",
          "text": [
            "Warning: total number of rows (27628) exceeds max_rows (20000). Falling back to pandas display.\n"
          ]
        },
        {
          "output_type": "execute_result",
          "data": {
            "text/plain": [
              "       index_left    TID               species       X        Y  dia_cm  \\\n",
              "13463           3  13468      Dalbergia sissoo  316524  3001801      67   \n",
              "19248           3  19253             Tsuga spp  316529  3001779      39   \n",
              "422             3    427        Shorea robusta  316527  3001775      60   \n",
              "22304           3  22309        Shorea robusta  316529  3001801      96   \n",
              "23599           3  23604        Acacia catechu  316528  3001760      81   \n",
              "...           ...    ...                   ...     ...      ...     ...   \n",
              "26961         388  26966  Anogeissus latifolia  317594  3002013      34   \n",
              "3383          388   3388      Adino cordifolia  317597  3002002      87   \n",
              "3741          388   3746           Quercus spp  317589  3002007      62   \n",
              "10515         388  10520      Alnus nepalensis  317589  3002025      42   \n",
              "20008         388  20013             Terai spp  317593  3002008      61   \n",
              "\n",
              "       height_m  class                        geometry   distance       status  \n",
              "13463        17      1  POINT (316524.000 3001801.000)  32.368696  Mother Tree  \n",
              "19248        21      1  POINT (316529.000 3001779.000)  28.650175               \n",
              "422          25      2  POINT (316527.000 3001775.000)  26.933854               \n",
              "22304        17      3  POINT (316529.000 3001801.000)  36.183318               \n",
              "23599        16      4  POINT (316528.000 3001760.000)  33.492275               \n",
              "...         ...    ...                             ...        ...          ...  \n",
              "26961        28      3  POINT (317594.000 3002013.000)  25.201835               \n",
              "3383         23      4  POINT (317597.000 3002002.000)  30.315549               \n",
              "3741         19      4  POINT (317589.000 3002007.000)  32.671586               \n",
              "10515        17      4  POINT (317589.000 3002025.000)  26.665193               \n",
              "20008        26      4  POINT (317593.000 3002008.000)  28.869231               \n",
              "\n",
              "[27628 rows x 11 columns]"
            ],
            "text/html": [
              "\n",
              "  <div id=\"df-25189e1b-f8ac-491f-a011-904b3a0972c1\" class=\"colab-df-container\">\n",
              "    <div>\n",
              "<style scoped>\n",
              "    .dataframe tbody tr th:only-of-type {\n",
              "        vertical-align: middle;\n",
              "    }\n",
              "\n",
              "    .dataframe tbody tr th {\n",
              "        vertical-align: top;\n",
              "    }\n",
              "\n",
              "    .dataframe thead th {\n",
              "        text-align: right;\n",
              "    }\n",
              "</style>\n",
              "<table border=\"1\" class=\"dataframe\">\n",
              "  <thead>\n",
              "    <tr style=\"text-align: right;\">\n",
              "      <th></th>\n",
              "      <th>index_left</th>\n",
              "      <th>TID</th>\n",
              "      <th>species</th>\n",
              "      <th>X</th>\n",
              "      <th>Y</th>\n",
              "      <th>dia_cm</th>\n",
              "      <th>height_m</th>\n",
              "      <th>class</th>\n",
              "      <th>geometry</th>\n",
              "      <th>distance</th>\n",
              "      <th>status</th>\n",
              "    </tr>\n",
              "  </thead>\n",
              "  <tbody>\n",
              "    <tr>\n",
              "      <th>13463</th>\n",
              "      <td>3</td>\n",
              "      <td>13468</td>\n",
              "      <td>Dalbergia sissoo</td>\n",
              "      <td>316524</td>\n",
              "      <td>3001801</td>\n",
              "      <td>67</td>\n",
              "      <td>17</td>\n",
              "      <td>1</td>\n",
              "      <td>POINT (316524.000 3001801.000)</td>\n",
              "      <td>32.368696</td>\n",
              "      <td>Mother Tree</td>\n",
              "    </tr>\n",
              "    <tr>\n",
              "      <th>19248</th>\n",
              "      <td>3</td>\n",
              "      <td>19253</td>\n",
              "      <td>Tsuga spp</td>\n",
              "      <td>316529</td>\n",
              "      <td>3001779</td>\n",
              "      <td>39</td>\n",
              "      <td>21</td>\n",
              "      <td>1</td>\n",
              "      <td>POINT (316529.000 3001779.000)</td>\n",
              "      <td>28.650175</td>\n",
              "      <td></td>\n",
              "    </tr>\n",
              "    <tr>\n",
              "      <th>422</th>\n",
              "      <td>3</td>\n",
              "      <td>427</td>\n",
              "      <td>Shorea robusta</td>\n",
              "      <td>316527</td>\n",
              "      <td>3001775</td>\n",
              "      <td>60</td>\n",
              "      <td>25</td>\n",
              "      <td>2</td>\n",
              "      <td>POINT (316527.000 3001775.000)</td>\n",
              "      <td>26.933854</td>\n",
              "      <td></td>\n",
              "    </tr>\n",
              "    <tr>\n",
              "      <th>22304</th>\n",
              "      <td>3</td>\n",
              "      <td>22309</td>\n",
              "      <td>Shorea robusta</td>\n",
              "      <td>316529</td>\n",
              "      <td>3001801</td>\n",
              "      <td>96</td>\n",
              "      <td>17</td>\n",
              "      <td>3</td>\n",
              "      <td>POINT (316529.000 3001801.000)</td>\n",
              "      <td>36.183318</td>\n",
              "      <td></td>\n",
              "    </tr>\n",
              "    <tr>\n",
              "      <th>23599</th>\n",
              "      <td>3</td>\n",
              "      <td>23604</td>\n",
              "      <td>Acacia catechu</td>\n",
              "      <td>316528</td>\n",
              "      <td>3001760</td>\n",
              "      <td>81</td>\n",
              "      <td>16</td>\n",
              "      <td>4</td>\n",
              "      <td>POINT (316528.000 3001760.000)</td>\n",
              "      <td>33.492275</td>\n",
              "      <td></td>\n",
              "    </tr>\n",
              "    <tr>\n",
              "      <th>...</th>\n",
              "      <td>...</td>\n",
              "      <td>...</td>\n",
              "      <td>...</td>\n",
              "      <td>...</td>\n",
              "      <td>...</td>\n",
              "      <td>...</td>\n",
              "      <td>...</td>\n",
              "      <td>...</td>\n",
              "      <td>...</td>\n",
              "      <td>...</td>\n",
              "      <td>...</td>\n",
              "    </tr>\n",
              "    <tr>\n",
              "      <th>26961</th>\n",
              "      <td>388</td>\n",
              "      <td>26966</td>\n",
              "      <td>Anogeissus latifolia</td>\n",
              "      <td>317594</td>\n",
              "      <td>3002013</td>\n",
              "      <td>34</td>\n",
              "      <td>28</td>\n",
              "      <td>3</td>\n",
              "      <td>POINT (317594.000 3002013.000)</td>\n",
              "      <td>25.201835</td>\n",
              "      <td></td>\n",
              "    </tr>\n",
              "    <tr>\n",
              "      <th>3383</th>\n",
              "      <td>388</td>\n",
              "      <td>3388</td>\n",
              "      <td>Adino cordifolia</td>\n",
              "      <td>317597</td>\n",
              "      <td>3002002</td>\n",
              "      <td>87</td>\n",
              "      <td>23</td>\n",
              "      <td>4</td>\n",
              "      <td>POINT (317597.000 3002002.000)</td>\n",
              "      <td>30.315549</td>\n",
              "      <td></td>\n",
              "    </tr>\n",
              "    <tr>\n",
              "      <th>3741</th>\n",
              "      <td>388</td>\n",
              "      <td>3746</td>\n",
              "      <td>Quercus spp</td>\n",
              "      <td>317589</td>\n",
              "      <td>3002007</td>\n",
              "      <td>62</td>\n",
              "      <td>19</td>\n",
              "      <td>4</td>\n",
              "      <td>POINT (317589.000 3002007.000)</td>\n",
              "      <td>32.671586</td>\n",
              "      <td></td>\n",
              "    </tr>\n",
              "    <tr>\n",
              "      <th>10515</th>\n",
              "      <td>388</td>\n",
              "      <td>10520</td>\n",
              "      <td>Alnus nepalensis</td>\n",
              "      <td>317589</td>\n",
              "      <td>3002025</td>\n",
              "      <td>42</td>\n",
              "      <td>17</td>\n",
              "      <td>4</td>\n",
              "      <td>POINT (317589.000 3002025.000)</td>\n",
              "      <td>26.665193</td>\n",
              "      <td></td>\n",
              "    </tr>\n",
              "    <tr>\n",
              "      <th>20008</th>\n",
              "      <td>388</td>\n",
              "      <td>20013</td>\n",
              "      <td>Terai spp</td>\n",
              "      <td>317593</td>\n",
              "      <td>3002008</td>\n",
              "      <td>61</td>\n",
              "      <td>26</td>\n",
              "      <td>4</td>\n",
              "      <td>POINT (317593.000 3002008.000)</td>\n",
              "      <td>28.869231</td>\n",
              "      <td></td>\n",
              "    </tr>\n",
              "  </tbody>\n",
              "</table>\n",
              "<p>27628 rows × 11 columns</p>\n",
              "</div>\n",
              "    <div class=\"colab-df-buttons\">\n",
              "\n",
              "  <div class=\"colab-df-container\">\n",
              "    <button class=\"colab-df-convert\" onclick=\"convertToInteractive('df-25189e1b-f8ac-491f-a011-904b3a0972c1')\"\n",
              "            title=\"Convert this dataframe to an interactive table.\"\n",
              "            style=\"display:none;\">\n",
              "\n",
              "  <svg xmlns=\"http://www.w3.org/2000/svg\" height=\"24px\" viewBox=\"0 -960 960 960\">\n",
              "    <path d=\"M120-120v-720h720v720H120Zm60-500h600v-160H180v160Zm220 220h160v-160H400v160Zm0 220h160v-160H400v160ZM180-400h160v-160H180v160Zm440 0h160v-160H620v160ZM180-180h160v-160H180v160Zm440 0h160v-160H620v160Z\"/>\n",
              "  </svg>\n",
              "    </button>\n",
              "\n",
              "  <style>\n",
              "    .colab-df-container {\n",
              "      display:flex;\n",
              "      gap: 12px;\n",
              "    }\n",
              "\n",
              "    .colab-df-convert {\n",
              "      background-color: #E8F0FE;\n",
              "      border: none;\n",
              "      border-radius: 50%;\n",
              "      cursor: pointer;\n",
              "      display: none;\n",
              "      fill: #1967D2;\n",
              "      height: 32px;\n",
              "      padding: 0 0 0 0;\n",
              "      width: 32px;\n",
              "    }\n",
              "\n",
              "    .colab-df-convert:hover {\n",
              "      background-color: #E2EBFA;\n",
              "      box-shadow: 0px 1px 2px rgba(60, 64, 67, 0.3), 0px 1px 3px 1px rgba(60, 64, 67, 0.15);\n",
              "      fill: #174EA6;\n",
              "    }\n",
              "\n",
              "    .colab-df-buttons div {\n",
              "      margin-bottom: 4px;\n",
              "    }\n",
              "\n",
              "    [theme=dark] .colab-df-convert {\n",
              "      background-color: #3B4455;\n",
              "      fill: #D2E3FC;\n",
              "    }\n",
              "\n",
              "    [theme=dark] .colab-df-convert:hover {\n",
              "      background-color: #434B5C;\n",
              "      box-shadow: 0px 1px 3px 1px rgba(0, 0, 0, 0.15);\n",
              "      filter: drop-shadow(0px 1px 2px rgba(0, 0, 0, 0.3));\n",
              "      fill: #FFFFFF;\n",
              "    }\n",
              "  </style>\n",
              "\n",
              "    <script>\n",
              "      const buttonEl =\n",
              "        document.querySelector('#df-25189e1b-f8ac-491f-a011-904b3a0972c1 button.colab-df-convert');\n",
              "      buttonEl.style.display =\n",
              "        google.colab.kernel.accessAllowed ? 'block' : 'none';\n",
              "\n",
              "      async function convertToInteractive(key) {\n",
              "        const element = document.querySelector('#df-25189e1b-f8ac-491f-a011-904b3a0972c1');\n",
              "        const dataTable =\n",
              "          await google.colab.kernel.invokeFunction('convertToInteractive',\n",
              "                                                    [key], {});\n",
              "        if (!dataTable) return;\n",
              "\n",
              "        const docLinkHtml = 'Like what you see? Visit the ' +\n",
              "          '<a target=\"_blank\" href=https://colab.research.google.com/notebooks/data_table.ipynb>data table notebook</a>'\n",
              "          + ' to learn more about interactive tables.';\n",
              "        element.innerHTML = '';\n",
              "        dataTable['output_type'] = 'display_data';\n",
              "        await google.colab.output.renderOutput(dataTable, element);\n",
              "        const docLink = document.createElement('div');\n",
              "        docLink.innerHTML = docLinkHtml;\n",
              "        element.appendChild(docLink);\n",
              "      }\n",
              "    </script>\n",
              "  </div>\n",
              "\n",
              "\n",
              "<div id=\"df-4f20ae8f-855b-499f-9372-1e4c1651be51\">\n",
              "  <button class=\"colab-df-quickchart\" onclick=\"quickchart('df-4f20ae8f-855b-499f-9372-1e4c1651be51')\"\n",
              "            title=\"Suggest charts\"\n",
              "            style=\"display:none;\">\n",
              "\n",
              "<svg xmlns=\"http://www.w3.org/2000/svg\" height=\"24px\"viewBox=\"0 0 24 24\"\n",
              "     width=\"24px\">\n",
              "    <g>\n",
              "        <path d=\"M19 3H5c-1.1 0-2 .9-2 2v14c0 1.1.9 2 2 2h14c1.1 0 2-.9 2-2V5c0-1.1-.9-2-2-2zM9 17H7v-7h2v7zm4 0h-2V7h2v10zm4 0h-2v-4h2v4z\"/>\n",
              "    </g>\n",
              "</svg>\n",
              "  </button>\n",
              "\n",
              "<style>\n",
              "  .colab-df-quickchart {\n",
              "      --bg-color: #E8F0FE;\n",
              "      --fill-color: #1967D2;\n",
              "      --hover-bg-color: #E2EBFA;\n",
              "      --hover-fill-color: #174EA6;\n",
              "      --disabled-fill-color: #AAA;\n",
              "      --disabled-bg-color: #DDD;\n",
              "  }\n",
              "\n",
              "  [theme=dark] .colab-df-quickchart {\n",
              "      --bg-color: #3B4455;\n",
              "      --fill-color: #D2E3FC;\n",
              "      --hover-bg-color: #434B5C;\n",
              "      --hover-fill-color: #FFFFFF;\n",
              "      --disabled-bg-color: #3B4455;\n",
              "      --disabled-fill-color: #666;\n",
              "  }\n",
              "\n",
              "  .colab-df-quickchart {\n",
              "    background-color: var(--bg-color);\n",
              "    border: none;\n",
              "    border-radius: 50%;\n",
              "    cursor: pointer;\n",
              "    display: none;\n",
              "    fill: var(--fill-color);\n",
              "    height: 32px;\n",
              "    padding: 0;\n",
              "    width: 32px;\n",
              "  }\n",
              "\n",
              "  .colab-df-quickchart:hover {\n",
              "    background-color: var(--hover-bg-color);\n",
              "    box-shadow: 0 1px 2px rgba(60, 64, 67, 0.3), 0 1px 3px 1px rgba(60, 64, 67, 0.15);\n",
              "    fill: var(--button-hover-fill-color);\n",
              "  }\n",
              "\n",
              "  .colab-df-quickchart-complete:disabled,\n",
              "  .colab-df-quickchart-complete:disabled:hover {\n",
              "    background-color: var(--disabled-bg-color);\n",
              "    fill: var(--disabled-fill-color);\n",
              "    box-shadow: none;\n",
              "  }\n",
              "\n",
              "  .colab-df-spinner {\n",
              "    border: 2px solid var(--fill-color);\n",
              "    border-color: transparent;\n",
              "    border-bottom-color: var(--fill-color);\n",
              "    animation:\n",
              "      spin 1s steps(1) infinite;\n",
              "  }\n",
              "\n",
              "  @keyframes spin {\n",
              "    0% {\n",
              "      border-color: transparent;\n",
              "      border-bottom-color: var(--fill-color);\n",
              "      border-left-color: var(--fill-color);\n",
              "    }\n",
              "    20% {\n",
              "      border-color: transparent;\n",
              "      border-left-color: var(--fill-color);\n",
              "      border-top-color: var(--fill-color);\n",
              "    }\n",
              "    30% {\n",
              "      border-color: transparent;\n",
              "      border-left-color: var(--fill-color);\n",
              "      border-top-color: var(--fill-color);\n",
              "      border-right-color: var(--fill-color);\n",
              "    }\n",
              "    40% {\n",
              "      border-color: transparent;\n",
              "      border-right-color: var(--fill-color);\n",
              "      border-top-color: var(--fill-color);\n",
              "    }\n",
              "    60% {\n",
              "      border-color: transparent;\n",
              "      border-right-color: var(--fill-color);\n",
              "    }\n",
              "    80% {\n",
              "      border-color: transparent;\n",
              "      border-right-color: var(--fill-color);\n",
              "      border-bottom-color: var(--fill-color);\n",
              "    }\n",
              "    90% {\n",
              "      border-color: transparent;\n",
              "      border-bottom-color: var(--fill-color);\n",
              "    }\n",
              "  }\n",
              "</style>\n",
              "\n",
              "  <script>\n",
              "    async function quickchart(key) {\n",
              "      const quickchartButtonEl =\n",
              "        document.querySelector('#' + key + ' button');\n",
              "      quickchartButtonEl.disabled = true;  // To prevent multiple clicks.\n",
              "      quickchartButtonEl.classList.add('colab-df-spinner');\n",
              "      try {\n",
              "        const charts = await google.colab.kernel.invokeFunction(\n",
              "            'suggestCharts', [key], {});\n",
              "      } catch (error) {\n",
              "        console.error('Error during call to suggestCharts:', error);\n",
              "      }\n",
              "      quickchartButtonEl.classList.remove('colab-df-spinner');\n",
              "      quickchartButtonEl.classList.add('colab-df-quickchart-complete');\n",
              "    }\n",
              "    (() => {\n",
              "      let quickchartButtonEl =\n",
              "        document.querySelector('#df-4f20ae8f-855b-499f-9372-1e4c1651be51 button');\n",
              "      quickchartButtonEl.style.display =\n",
              "        google.colab.kernel.accessAllowed ? 'block' : 'none';\n",
              "    })();\n",
              "  </script>\n",
              "</div>\n",
              "\n",
              "  <div id=\"id_b3a1e682-2eb0-4776-af8a-5ed8233228a9\">\n",
              "    <style>\n",
              "      .colab-df-generate {\n",
              "        background-color: #E8F0FE;\n",
              "        border: none;\n",
              "        border-radius: 50%;\n",
              "        cursor: pointer;\n",
              "        display: none;\n",
              "        fill: #1967D2;\n",
              "        height: 32px;\n",
              "        padding: 0 0 0 0;\n",
              "        width: 32px;\n",
              "      }\n",
              "\n",
              "      .colab-df-generate:hover {\n",
              "        background-color: #E2EBFA;\n",
              "        box-shadow: 0px 1px 2px rgba(60, 64, 67, 0.3), 0px 1px 3px 1px rgba(60, 64, 67, 0.15);\n",
              "        fill: #174EA6;\n",
              "      }\n",
              "\n",
              "      [theme=dark] .colab-df-generate {\n",
              "        background-color: #3B4455;\n",
              "        fill: #D2E3FC;\n",
              "      }\n",
              "\n",
              "      [theme=dark] .colab-df-generate:hover {\n",
              "        background-color: #434B5C;\n",
              "        box-shadow: 0px 1px 3px 1px rgba(0, 0, 0, 0.15);\n",
              "        filter: drop-shadow(0px 1px 2px rgba(0, 0, 0, 0.3));\n",
              "        fill: #FFFFFF;\n",
              "      }\n",
              "    </style>\n",
              "    <button class=\"colab-df-generate\" onclick=\"generateWithVariable('df_with_remarks')\"\n",
              "            title=\"Generate code using this dataframe.\"\n",
              "            style=\"display:none;\">\n",
              "\n",
              "  <svg xmlns=\"http://www.w3.org/2000/svg\" height=\"24px\"viewBox=\"0 0 24 24\"\n",
              "       width=\"24px\">\n",
              "    <path d=\"M7,19H8.4L18.45,9,17,7.55,7,17.6ZM5,21V16.75L18.45,3.32a2,2,0,0,1,2.83,0l1.4,1.43a1.91,1.91,0,0,1,.58,1.4,1.91,1.91,0,0,1-.58,1.4L9.25,21ZM18.45,9,17,7.55Zm-12,3A5.31,5.31,0,0,0,4.9,8.1,5.31,5.31,0,0,0,1,6.5,5.31,5.31,0,0,0,4.9,4.9,5.31,5.31,0,0,0,6.5,1,5.31,5.31,0,0,0,8.1,4.9,5.31,5.31,0,0,0,12,6.5,5.46,5.46,0,0,0,6.5,12Z\"/>\n",
              "  </svg>\n",
              "    </button>\n",
              "    <script>\n",
              "      (() => {\n",
              "      const buttonEl =\n",
              "        document.querySelector('#id_b3a1e682-2eb0-4776-af8a-5ed8233228a9 button.colab-df-generate');\n",
              "      buttonEl.style.display =\n",
              "        google.colab.kernel.accessAllowed ? 'block' : 'none';\n",
              "\n",
              "      buttonEl.onclick = () => {\n",
              "        google.colab.notebook.generateWithVariable('df_with_remarks');\n",
              "      }\n",
              "      })();\n",
              "    </script>\n",
              "  </div>\n",
              "\n",
              "    </div>\n",
              "  </div>\n"
            ],
            "application/vnd.google.colaboratory.intrinsic+json": {
              "type": "dataframe",
              "variable_name": "df_with_remarks",
              "summary": "{\n  \"name\": \"df_with_remarks\",\n  \"rows\": 27628,\n  \"fields\": [\n    {\n      \"column\": \"index_left\",\n      \"properties\": {\n        \"dtype\": \"number\",\n        \"std\": 104,\n        \"min\": 3,\n        \"max\": 388,\n        \"num_unique_values\": 349,\n        \"samples\": [\n          168,\n          372,\n          339\n        ],\n        \"semantic_type\": \"\",\n        \"description\": \"\"\n      }\n    },\n    {\n      \"column\": \"TID\",\n      \"properties\": {\n        \"dtype\": \"number\",\n        \"std\": 7966,\n        \"min\": 1,\n        \"max\": 27600,\n        \"num_unique_values\": 27596,\n        \"samples\": [\n          15324,\n          22345,\n          24074\n        ],\n        \"semantic_type\": \"\",\n        \"description\": \"\"\n      }\n    },\n    {\n      \"column\": \"species\",\n      \"properties\": {\n        \"dtype\": \"category\",\n        \"num_unique_values\": 23,\n        \"samples\": [\n          \"Pinus roxburghii\",\n          \"Schima wallichii\",\n          \"Dalbergia sissoo\"\n        ],\n        \"semantic_type\": \"\",\n        \"description\": \"\"\n      }\n    },\n    {\n      \"column\": \"X\",\n      \"properties\": {\n        \"dtype\": \"number\",\n        \"std\": 307,\n        \"min\": 316471,\n        \"max\": 317645,\n        \"num_unique_values\": 1172,\n        \"samples\": [\n          317112,\n          316687,\n          317120\n        ],\n        \"semantic_type\": \"\",\n        \"description\": \"\"\n      }\n    },\n    {\n      \"column\": \"Y\",\n      \"properties\": {\n        \"dtype\": \"number\",\n        \"std\": 251,\n        \"min\": 3001606,\n        \"max\": 3002594,\n        \"num_unique_values\": 986,\n        \"samples\": [\n          3001784,\n          3002495,\n          3001988\n        ],\n        \"semantic_type\": \"\",\n        \"description\": \"\"\n      }\n    },\n    {\n      \"column\": \"dia_cm\",\n      \"properties\": {\n        \"dtype\": \"number\",\n        \"std\": 23,\n        \"min\": 30,\n        \"max\": 110,\n        \"num_unique_values\": 81,\n        \"samples\": [\n          47,\n          67,\n          73\n        ],\n        \"semantic_type\": \"\",\n        \"description\": \"\"\n      }\n    },\n    {\n      \"column\": \"height_m\",\n      \"properties\": {\n        \"dtype\": \"number\",\n        \"std\": 4,\n        \"min\": 15,\n        \"max\": 30,\n        \"num_unique_values\": 16,\n        \"samples\": [\n          17,\n          21,\n          26\n        ],\n        \"semantic_type\": \"\",\n        \"description\": \"\"\n      }\n    },\n    {\n      \"column\": \"class\",\n      \"properties\": {\n        \"dtype\": \"number\",\n        \"std\": 1,\n        \"min\": 1,\n        \"max\": 4,\n        \"num_unique_values\": 4,\n        \"samples\": [\n          2,\n          4,\n          1\n        ],\n        \"semantic_type\": \"\",\n        \"description\": \"\"\n      }\n    },\n    {\n      \"column\": \"geometry\",\n      \"properties\": {\n        \"dtype\": \"geometry\",\n        \"num_unique_values\": 27596,\n        \"samples\": [\n          \"POINT (317344 3002158)\",\n          \"POINT (317300 3002288)\",\n          \"POINT (317412 3001912)\"\n        ],\n        \"semantic_type\": \"\",\n        \"description\": \"\"\n      }\n    },\n    {\n      \"column\": \"distance\",\n      \"properties\": {\n        \"dtype\": \"number\",\n        \"std\": 7.805050336610956,\n        \"min\": 0.2692582403913137,\n        \"max\": 38.231825747649474,\n        \"num_unique_values\": 23865,\n        \"samples\": [\n          15.082854504525633,\n          11.801377038303832,\n          24.49556082243692\n        ],\n        \"semantic_type\": \"\",\n        \"description\": \"\"\n      }\n    },\n    {\n      \"column\": \"status\",\n      \"properties\": {\n        \"dtype\": \"category\",\n        \"num_unique_values\": 2,\n        \"samples\": [\n          \"\",\n          \"Mother Tree\"\n        ],\n        \"semantic_type\": \"\",\n        \"description\": \"\"\n      }\n    }\n  ]\n}"
            }
          },
          "metadata": {},
          "execution_count": 53
        }
      ]
    },
    {
      "source": [
        "# Join the GeoDataFrames based on the 'species' column\n",
        "merged_gdf = df_with_remarks.merge(sppVal, left_on='species', right_on='Scientific Name')\n",
        "merged_gdf"
      ],
      "cell_type": "code",
      "metadata": {
        "id": "hm4yzhVAF-bZ"
      },
      "execution_count": null,
      "outputs": []
    },
    {
      "cell_type": "code",
      "source": [
        "merged_df = pd.merge(df_with_remarks, sppVal, left_on='species', right_on='Scientific Name')"
      ],
      "metadata": {
        "id": "cvf8dxuWrDJV"
      },
      "execution_count": 56,
      "outputs": []
    },
    {
      "cell_type": "code",
      "source": [
        "merged_df"
      ],
      "metadata": {
        "id": "eJ0VvvCCrTVP"
      },
      "execution_count": null,
      "outputs": []
    },
    {
      "cell_type": "markdown",
      "source": [
        "stem volume calculation formula\n",
        "v = EXP(a + b * ln(dia_cm) + c *ln(height_m))"
      ],
      "metadata": {
        "id": "lKMDsdq8o4Wq"
      }
    },
    {
      "source": [
        "merged_gdf['stem_volume'] = merged_gdf.apply(lambda row: math.exp(row['a'] + row['b'] * math.log(row['dia_cm']) + row['c'] * math.log(row['height_m'])), axis=1)/1000"
      ],
      "cell_type": "code",
      "metadata": {
        "id": "coaEqzIItKz9"
      },
      "execution_count": 58,
      "outputs": []
    },
    {
      "cell_type": "code",
      "source": [
        "merged_gdf"
      ],
      "metadata": {
        "id": "8tvunC1kNYSb"
      },
      "execution_count": null,
      "outputs": []
    },
    {
      "cell_type": "code",
      "source": [
        "# merged_gdf.to_csv(\"/content/drive/MyDrive/MTanalysis/Hello.csv\")"
      ],
      "metadata": {
        "id": "xl-QjHt60s8J"
      },
      "execution_count": 35,
      "outputs": []
    },
    {
      "cell_type": "code",
      "source": [
        "def calculate_branch_ratio(row):\n",
        "    if row['dia_cm'] < 10:\n",
        "        return row['s']\n",
        "    elif 10 <= row['dia_cm'] < 40:\n",
        "        return ((row['dia_cm'] - 10) * row['m'] + (40 - row['dia_cm']) * row['s']) / 30\n",
        "    elif 40 <= row['dia_cm'] < 70:\n",
        "        return ((row['dia_cm'] - 10) * row['m'] + (40 - row['dia_cm']) * row['s']) / 30\n",
        "    else:\n",
        "        return row['b']\n",
        "\n",
        "merged_gdf['branch_ratio'] = merged_gdf.apply(calculate_branch_ratio, axis=1)\n",
        "merged_gdf.sort_values(by='TID')"
      ],
      "metadata": {
        "id": "v7ZV0iN_CCJZ"
      },
      "execution_count": null,
      "outputs": []
    },
    {
      "cell_type": "markdown",
      "source": [
        "Calculate Branch volume, tree volume, 10 cm top dia ratio etc"
      ],
      "metadata": {
        "id": "KsQaj5WSpAXx"
      }
    },
    {
      "cell_type": "code",
      "source": [
        "merged_gdf['branch_volume'] = merged_gdf['stem_volume'] * merged_gdf['branch_ratio']\n",
        "merged_gdf['tree_volume'] = merged_gdf['stem_volume'] + merged_gdf['branch_volume']\n",
        "merged_gdf['cm10diaratio'] = merged_gdf['stem_volume'] + merged_gdf['branch_volume']\n",
        "merged_gdf['cm10topvolume'] = gpd.np.exp(merged_gdf['a1'] + merged_gdf['b1'] * gpd.np.log(merged_gdf['dia_cm']))\n",
        "merged_gdf['gross_volume'] = merged_gdf['stem_volume'] - merged_gdf['cm10topvolume']"
      ],
      "metadata": {
        "id": "PEpjx29do_x8"
      },
      "execution_count": 60,
      "outputs": []
    },
    {
      "cell_type": "markdown",
      "source": [
        "calculating net volume using function"
      ],
      "metadata": {
        "id": "9rglxHkolTPv"
      }
    },
    {
      "source": [
        "def calculate_net_volume(row):\n",
        "  if row['class'] == 1:\n",
        "    return row['gross_volume'] * 0.8\n",
        "  elif row['class'] == 2:\n",
        "    return row['gross_volume'] * 0.6\n",
        "  elif row['class'] == 3:\n",
        "    return row['gross_volume'] * 0.3\n",
        "  else:\n",
        "    return row['gross_volume'] * 0.\n",
        "\n",
        "# Apply the function to each row in the GeoDataFrame\n",
        "merged_gdf['net_volume'] = merged_gdf.apply(calculate_net_volume, axis=1)"
      ],
      "cell_type": "code",
      "metadata": {
        "id": "jLcNwZ3jkLIg"
      },
      "execution_count": 61,
      "outputs": []
    },
    {
      "source": [
        "# Create a new column called 'net_volum_cft'\n",
        "merged_gdf['net_volum_cft'] = None\n",
        "\n",
        "# Apply a lambda function to each row to calculate the new column value\n",
        "merged_gdf['net_volum_cft'] = merged_gdf.apply(lambda row: row['net_volume'] * 3.28*3.28*3.28, axis=1)\n"
      ],
      "cell_type": "code",
      "metadata": {
        "id": "380EAwA0nUur"
      },
      "execution_count": 62,
      "outputs": []
    },
    {
      "cell_type": "code",
      "source": [
        "# Create a new column called 'net_volum_cft'\n",
        "merged_gdf['firewood_m3'] = None\n",
        "\n",
        "# Apply a lambda function to each row to calculate the new column value\n",
        "merged_gdf['firewood_m3'] = merged_gdf.apply(lambda row: row['tree_volume'] - row['net_volume'], axis=1)\n"
      ],
      "metadata": {
        "id": "miTt_OTRoaPD"
      },
      "execution_count": 63,
      "outputs": []
    },
    {
      "cell_type": "code",
      "source": [
        "# Create a new column called 'net_volum_cft'\n",
        "merged_gdf['firewood_chatta'] = None\n",
        "\n",
        "# Apply a lambda function to each row to calculate the new column value\n",
        "merged_gdf['firewood_chatta'] = merged_gdf.apply(lambda row: row['firewood_m3'] - 0.105944, axis=1)"
      ],
      "metadata": {
        "id": "WbltdZllpqW0"
      },
      "execution_count": 64,
      "outputs": []
    },
    {
      "cell_type": "code",
      "source": [
        "merged_gdf"
      ],
      "metadata": {
        "id": "esXkA27n2eLy"
      },
      "execution_count": null,
      "outputs": []
    },
    {
      "cell_type": "code",
      "source": [
        "merged_gdf.sort_values(by='TID')"
      ],
      "metadata": {
        "id": "npg1pTNr2sNM"
      },
      "execution_count": null,
      "outputs": []
    }
  ],
  "metadata": {
    "colab": {
      "provenance": [],
      "gpuType": "T4",
      "mount_file_id": "12oW4OudyzyfTFlJCTS5gzcZaPy8pj7Bu",
      "authorship_tag": "ABX9TyONqHUwGdDCyE0GeSHAaTQc",
      "include_colab_link": true
    },
    "kernelspec": {
      "display_name": "Python 3",
      "name": "python3"
    },
    "language_info": {
      "name": "python"
    },
    "accelerator": "GPU"
  },
  "nbformat": 4,
  "nbformat_minor": 0
}