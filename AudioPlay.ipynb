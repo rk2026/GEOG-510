{
  "nbformat": 4,
  "nbformat_minor": 0,
  "metadata": {
    "colab": {
      "provenance": [],
      "gpuType": "T4",
      "mount_file_id": "15VNy_sQ7LZYN2btk6UFNpP-kJQKByHG9",
      "authorship_tag": "ABX9TyNtWzd5foHSjG7prG6CVcrO",
      "include_colab_link": true
    },
    "kernelspec": {
      "name": "python3",
      "display_name": "Python 3"
    },
    "language_info": {
      "name": "python"
    },
    "accelerator": "GPU"
  },
  "cells": [
    {
      "cell_type": "markdown",
      "metadata": {
        "id": "view-in-github",
        "colab_type": "text"
      },
      "source": [
        "<a href=\"https://colab.research.google.com/github/rk2026/GEOG-510/blob/main/AudioPlay.ipynb\" target=\"_parent\"><img src=\"https://colab.research.google.com/assets/colab-badge.svg\" alt=\"Open In Colab\"/></a>"
      ]
    },
    {
      "cell_type": "code",
      "source": [
        "#!pip install audio2numpy"
      ],
      "metadata": {
        "colab": {
          "base_uri": "https://localhost:8080/"
        },
        "id": "s6AF9c6C3xbK",
        "outputId": "a72f2230-5639-460c-dcdf-4e852d6fe4a5"
      },
      "execution_count": 1,
      "outputs": [
        {
          "output_type": "stream",
          "name": "stdout",
          "text": [
            "Collecting audio2numpy\n",
            "  Downloading audio2numpy-0.1.2-py3-none-any.whl (10 kB)\n",
            "Requirement already satisfied: numpy in /usr/local/lib/python3.10/dist-packages (from audio2numpy) (1.23.5)\n",
            "Collecting ffmpeg (from audio2numpy)\n",
            "  Downloading ffmpeg-1.4.tar.gz (5.1 kB)\n",
            "  Preparing metadata (setup.py) ... \u001b[?25l\u001b[?25hdone\n",
            "Building wheels for collected packages: ffmpeg\n",
            "  Building wheel for ffmpeg (setup.py) ... \u001b[?25l\u001b[?25hdone\n",
            "  Created wheel for ffmpeg: filename=ffmpeg-1.4-py3-none-any.whl size=6082 sha256=229e253915f8053dd7bd203d90dbad959c72ea3525065a1eac01de612efa9320\n",
            "  Stored in directory: /root/.cache/pip/wheels/8e/7a/69/cd6aeb83b126a7f04cbe7c9d929028dc52a6e7d525ff56003a\n",
            "Successfully built ffmpeg\n",
            "Installing collected packages: ffmpeg, audio2numpy\n",
            "Successfully installed audio2numpy-0.1.2 ffmpeg-1.4\n"
          ]
        }
      ]
    },
    {
      "cell_type": "code",
      "source": [
        "#!pip install pydub"
      ],
      "metadata": {
        "colab": {
          "base_uri": "https://localhost:8080/"
        },
        "id": "SXNj7Jz-8_NL",
        "outputId": "6ea0cd0d-20fd-4c3c-d9cf-d85f97ded29c"
      },
      "execution_count": 2,
      "outputs": [
        {
          "output_type": "stream",
          "name": "stdout",
          "text": [
            "Collecting pydub\n",
            "  Downloading pydub-0.25.1-py2.py3-none-any.whl (32 kB)\n",
            "Installing collected packages: pydub\n",
            "Successfully installed pydub-0.25.1\n"
          ]
        }
      ]
    },
    {
      "cell_type": "code",
      "execution_count": 3,
      "metadata": {
        "id": "jXfqlbuHzugD"
      },
      "outputs": [],
      "source": [
        "import librosa\n",
        "import audio2numpy as a2n"
      ]
    },
    {
      "cell_type": "markdown",
      "source": [
        "**Load an audio file**"
      ],
      "metadata": {
        "id": "6fIzrmMK4Cp5"
      }
    },
    {
      "cell_type": "code",
      "source": [
        "from google.colab import drive\n",
        "drive.mount('/content/drive')"
      ],
      "metadata": {
        "id": "GpPsH4NN4tXS",
        "colab": {
          "base_uri": "https://localhost:8080/"
        },
        "outputId": "65cd5ab9-c15f-4f84-d798-2a5eff57af84"
      },
      "execution_count": 4,
      "outputs": [
        {
          "output_type": "stream",
          "name": "stdout",
          "text": [
            "Drive already mounted at /content/drive; to attempt to forcibly remount, call drive.mount(\"/content/drive\", force_remount=True).\n"
          ]
        }
      ]
    },
    {
      "cell_type": "code",
      "source": [
        "filename = \"/content/drive/MyDrive/Colab Notebooks/rk.mp3\"\n",
        "y, sr = a2n.audio_from_file(filename)"
      ],
      "metadata": {
        "id": "ge74-ACg38eR"
      },
      "execution_count": 5,
      "outputs": []
    },
    {
      "cell_type": "code",
      "source": [
        "print(sr)"
      ],
      "metadata": {
        "colab": {
          "base_uri": "https://localhost:8080/"
        },
        "id": "bBnK3UG4-BdC",
        "outputId": "068cbc98-541d-4001-f1f1-36db5f442d08"
      },
      "execution_count": 7,
      "outputs": [
        {
          "output_type": "stream",
          "name": "stdout",
          "text": [
            "44100\n"
          ]
        }
      ]
    },
    {
      "cell_type": "markdown",
      "source": [
        "Load an audio file#"
      ],
      "metadata": {
        "id": "iMXCZSHt0MO8"
      }
    },
    {
      "cell_type": "code",
      "source": [],
      "metadata": {
        "id": "PANQkebC0lVA"
      },
      "execution_count": null,
      "outputs": []
    }
  ]
}